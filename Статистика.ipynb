{
 "cells": [
  {
   "cell_type": "code",
   "execution_count": 46,
   "id": "9992812a-d2a1-44c6-ab7a-5f7b92a0fc5d",
   "metadata": {
    "tags": []
   },
   "outputs": [],
   "source": [
    "import pandas as pd\n",
    "import numpy as np\n",
    "import matplotlib.pyplot as plt"
   ]
  },
  {
   "cell_type": "code",
   "execution_count": 47,
   "id": "2ffd652f-75c9-48d1-b8fa-82e6b1b9c0e2",
   "metadata": {
    "tags": []
   },
   "outputs": [],
   "source": [
    "stat_1 = pd.read_csv('C:/Users/1/Desktop/Proj/statistic.csv')"
   ]
  },
  {
   "cell_type": "code",
   "execution_count": 48,
   "id": "7188227a-3df9-480a-b2d7-ebb7d022d391",
   "metadata": {},
   "outputs": [],
   "source": [
    "stat_2 = pd.read_csv('C:/Users/1/Desktop/Proj/statistic_2.csv')"
   ]
  },
  {
   "cell_type": "code",
   "execution_count": 49,
   "id": "b28d5d08-4f45-404a-9e95-282932f1b868",
   "metadata": {
    "tags": []
   },
   "outputs": [],
   "source": [
    "# C:/Users/regio/Desktop/Робот/statisitic.csv\n",
    "# C:/Users/regio/Desktop/Робот/statisitic2.csv"
   ]
  },
  {
   "cell_type": "markdown",
   "id": "073f3192-e6e2-4836-9c44-ed46db073ada",
   "metadata": {
    "jp-MarkdownHeadingCollapsed": true,
    "tags": []
   },
   "source": [
    "# Построить графики"
   ]
  },
  {
   "cell_type": "markdown",
   "id": "1708b855-8a7a-4b1a-9f1a-1d5a02acde41",
   "metadata": {},
   "source": [
    "## Изменеие прибыли"
   ]
  },
  {
   "cell_type": "code",
   "execution_count": 50,
   "id": "6586389c-a170-4c04-acb8-185dc2e65ec7",
   "metadata": {
    "tags": []
   },
   "outputs": [],
   "source": [
    "def build_profit(data):    \n",
    "    plt.figure(figsize=(13, 3))\n",
    "    plt.plot(data['Дата входа'], data['Текущая прибыль'],  label = 'Текущая прибыль')\n",
    "    plt.ylabel('Текущая прибыль, %')\n",
    "    plt.xlim(data['Дата входа'].iloc[0], data['Дата входа'].iloc[-1])\n",
    "    plt.legend(loc = 'upper left')\n",
    "    plt.grid()\n",
    "    return plt.show() "
   ]
  },
  {
   "cell_type": "markdown",
   "id": "a00236a0-0aa2-412e-a5fc-1817d54fa416",
   "metadata": {},
   "source": [
    "## Cила тренда"
   ]
  },
  {
   "cell_type": "code",
   "execution_count": 51,
   "id": "7a4485bb-0ce4-4db5-9be6-19966042fa31",
   "metadata": {
    "tags": []
   },
   "outputs": [],
   "source": [
    "def build_trend():    \n",
    "    plt.figure(figsize=(13, 7))\n",
    "    plt.xlim(0, 1)\n",
    "    plt.xlim(0, 1)\n",
    "    x1, y1 = [0, 1], [1, LIMIT_TREND_RSI_70]\n",
    "    x2, y2 = [0, 1], [1, LIMIT_TREND_RSI_30] \n",
    "    x3, y3 = [0, 1], [1, trend_powere_mean_long_RSI_70]\n",
    "    x4, y4 = [0, 1], [1, trend_powere_mean_short_RSI_70]\n",
    "    x5, y5 = [0, 1], [1, trend_powere_mean_long_RSI_30]\n",
    "    x6, y6 = [0, 1], [1, trend_powere_mean_short_RSI_30]\n",
    "    plt.plot(x1, y1, label = 'Порог тренда RSI 70')\n",
    "    plt.plot(x2, y2, label = 'Порог тренда RSI 30')\n",
    "    plt.plot(x3, y3, label = 'Средняя сила тренда в ЛОНГ RSI 70')\n",
    "    plt.plot(x4, y4, label = 'Средняя сила тренда в ШОРТ RSI 70')\n",
    "    plt.plot(x5, y5, label = 'Средняя сила тренда в ЛОНГ RSI 30')\n",
    "    plt.plot(x6, y6, label = 'Средняя сила тренда в ШОРТ RSI 30')\n",
    "    plt.ylabel('Порог силы тренда')\n",
    "    plt.legend(loc = 'upper left')\n",
    "    plt.grid()\n",
    "    return plt.show() "
   ]
  },
  {
   "cell_type": "markdown",
   "id": "0c62ce18-4073-46ab-870b-3cc62dfe702b",
   "metadata": {},
   "source": [
    "# БОТ 1"
   ]
  },
  {
   "cell_type": "code",
   "execution_count": 52,
   "id": "9a7de4be-98b9-4230-967a-09868576eb86",
   "metadata": {
    "tags": []
   },
   "outputs": [
    {
     "data": {
      "text/html": [
       "<div>\n",
       "<style scoped>\n",
       "    .dataframe tbody tr th:only-of-type {\n",
       "        vertical-align: middle;\n",
       "    }\n",
       "\n",
       "    .dataframe tbody tr th {\n",
       "        vertical-align: top;\n",
       "    }\n",
       "\n",
       "    .dataframe thead th {\n",
       "        text-align: right;\n",
       "    }\n",
       "</style>\n",
       "<table border=\"1\" class=\"dataframe\">\n",
       "  <thead>\n",
       "    <tr style=\"text-align: right;\">\n",
       "      <th></th>\n",
       "      <th>Монета</th>\n",
       "      <th>Направление</th>\n",
       "      <th>Дата входа</th>\n",
       "      <th>Дата выхода</th>\n",
       "      <th>Прибыль</th>\n",
       "      <th>RSI_5M при входе</th>\n",
       "      <th>RSI_1H при входе</th>\n",
       "      <th>Прибыль/Убыток</th>\n",
       "      <th>Текущая прибыль</th>\n",
       "    </tr>\n",
       "  </thead>\n",
       "  <tbody>\n",
       "    <tr>\n",
       "      <th>0</th>\n",
       "      <td>BANDUSDT</td>\n",
       "      <td>Лонг</td>\n",
       "      <td>2023-04-13 08:30:03</td>\n",
       "      <td>2023-04-13 10:21:31</td>\n",
       "      <td>0.400000</td>\n",
       "      <td>27.11</td>\n",
       "      <td>42.72</td>\n",
       "      <td>1</td>\n",
       "      <td>0.40</td>\n",
       "    </tr>\n",
       "    <tr>\n",
       "      <th>1</th>\n",
       "      <td>BANDUSDT</td>\n",
       "      <td>Лонг</td>\n",
       "      <td>2023-04-13 08:30:03</td>\n",
       "      <td>2023-04-13 16:14:29</td>\n",
       "      <td>1.214247</td>\n",
       "      <td>27.11</td>\n",
       "      <td>42.72</td>\n",
       "      <td>1</td>\n",
       "      <td>1.61</td>\n",
       "    </tr>\n",
       "    <tr>\n",
       "      <th>2</th>\n",
       "      <td>BATUSDT</td>\n",
       "      <td>Шорт</td>\n",
       "      <td>2023-04-13 16:19:39</td>\n",
       "      <td>2023-04-13 17:11:32</td>\n",
       "      <td>0.400000</td>\n",
       "      <td>82.63</td>\n",
       "      <td>59.41</td>\n",
       "      <td>1</td>\n",
       "      <td>2.01</td>\n",
       "    </tr>\n",
       "    <tr>\n",
       "      <th>3</th>\n",
       "      <td>BATUSDT</td>\n",
       "      <td>Шорт</td>\n",
       "      <td>2023-04-13 16:19:39</td>\n",
       "      <td>2023-04-14 07:15:15</td>\n",
       "      <td>-0.400000</td>\n",
       "      <td>82.63</td>\n",
       "      <td>59.41</td>\n",
       "      <td>0</td>\n",
       "      <td>1.61</td>\n",
       "    </tr>\n",
       "    <tr>\n",
       "      <th>4</th>\n",
       "      <td>BATUSDT</td>\n",
       "      <td>Шорт</td>\n",
       "      <td>2023-04-14 07:20:05</td>\n",
       "      <td>2023-04-14 07:39:49</td>\n",
       "      <td>-0.800000</td>\n",
       "      <td>71.81</td>\n",
       "      <td>62.04</td>\n",
       "      <td>0</td>\n",
       "      <td>0.81</td>\n",
       "    </tr>\n",
       "  </tbody>\n",
       "</table>\n",
       "</div>"
      ],
      "text/plain": [
       "     Монета Направление           Дата входа          Дата выхода   Прибыль  \\\n",
       "0  BANDUSDT        Лонг  2023-04-13 08:30:03  2023-04-13 10:21:31  0.400000   \n",
       "1  BANDUSDT        Лонг  2023-04-13 08:30:03  2023-04-13 16:14:29  1.214247   \n",
       "2   BATUSDT        Шорт  2023-04-13 16:19:39  2023-04-13 17:11:32  0.400000   \n",
       "3   BATUSDT        Шорт  2023-04-13 16:19:39  2023-04-14 07:15:15 -0.400000   \n",
       "4   BATUSDT        Шорт  2023-04-14 07:20:05  2023-04-14 07:39:49 -0.800000   \n",
       "\n",
       "   RSI_5M при входе  RSI_1H при входе  Прибыль/Убыток  Текущая прибыль  \n",
       "0             27.11             42.72               1             0.40  \n",
       "1             27.11             42.72               1             1.61  \n",
       "2             82.63             59.41               1             2.01  \n",
       "3             82.63             59.41               0             1.61  \n",
       "4             71.81             62.04               0             0.81  "
      ]
     },
     "metadata": {},
     "output_type": "display_data"
    },
    {
     "name": "stdout",
     "output_type": "stream",
     "text": [
      "Суммарная прибыль, %: 0.81\n"
     ]
    }
   ],
   "source": [
    "stat_1['Прибыль/Убыток'] = np.where(stat_1['Прибыль'] > 0, 1, 0)\n",
    "stat_1['Текущая прибыль'] = stat_1['Прибыль'].cumsum().round(2)\n",
    "display(stat_1)\n",
    "print('Суммарная прибыль, %:', round(stat_1['Прибыль'].sum(), 2))"
   ]
  },
  {
   "cell_type": "code",
   "execution_count": 53,
   "id": "8f4f25cd-2b03-44d3-b598-4f67a6192147",
   "metadata": {
    "tags": []
   },
   "outputs": [
    {
     "data": {
      "image/png": "[encoded data removed]",
      "text/plain": [
       "<Figure size 1300x300 with 1 Axes>"
      ]
     },
     "metadata": {},
     "output_type": "display_data"
    }
   ],
   "source": [
    "build_profit(stat_1)"
   ]
  },
  {
   "cell_type": "code",
   "execution_count": 54,
   "id": "5af847bf-9572-489d-b6d4-b05d084f3b3d",
   "metadata": {
    "tags": []
   },
   "outputs": [
    {
     "data": {
      "text/html": [
       "<div>\n",
       "<style scoped>\n",
       "    .dataframe tbody tr th:only-of-type {\n",
       "        vertical-align: middle;\n",
       "    }\n",
       "\n",
       "    .dataframe tbody tr th {\n",
       "        vertical-align: top;\n",
       "    }\n",
       "\n",
       "    .dataframe thead tr th {\n",
       "        text-align: left;\n",
       "    }\n",
       "</style>\n",
       "<table border=\"1\" class=\"dataframe\">\n",
       "  <thead>\n",
       "    <tr>\n",
       "      <th></th>\n",
       "      <th>Монета</th>\n",
       "      <th>Процент прибыльных сделок</th>\n",
       "      <th>Количество сделок</th>\n",
       "    </tr>\n",
       "    <tr>\n",
       "      <th></th>\n",
       "      <th></th>\n",
       "      <th>Прибыль/Убыток</th>\n",
       "      <th>Прибыль/Убыток</th>\n",
       "    </tr>\n",
       "  </thead>\n",
       "  <tbody>\n",
       "    <tr>\n",
       "      <th>0</th>\n",
       "      <td>BANDUSDT</td>\n",
       "      <td>1.000000</td>\n",
       "      <td>2</td>\n",
       "    </tr>\n",
       "    <tr>\n",
       "      <th>1</th>\n",
       "      <td>BATUSDT</td>\n",
       "      <td>0.333333</td>\n",
       "      <td>3</td>\n",
       "    </tr>\n",
       "  </tbody>\n",
       "</table>\n",
       "</div>"
      ],
      "text/plain": [
       "     Монета Процент прибыльных сделок Количество сделок\n",
       "                       Прибыль/Убыток    Прибыль/Убыток\n",
       "0  BANDUSDT                  1.000000                 2\n",
       "1   BATUSDT                  0.333333                 3"
      ]
     },
     "execution_count": 54,
     "metadata": {},
     "output_type": "execute_result"
    }
   ],
   "source": [
    "Монеты = stat_1.pivot_table(index = 'Монета', values = 'Прибыль/Убыток', aggfunc = ['mean', 'count']).reset_index()\n",
    "Монеты = Монеты.rename(columns={'mean' : 'Процент прибыльных сделок', 'count' : 'Количество сделок'})\n",
    "#Монеты = Монеты.sort_values()\n",
    "Монеты"
   ]
  },
  {
   "cell_type": "markdown",
   "id": "2ac0b1ed-aa9d-47e3-a693-e29ffc53c03d",
   "metadata": {},
   "source": [
    "# БОТ 2"
   ]
  },
  {
   "cell_type": "code",
   "execution_count": 55,
   "id": "85cbba04-f6eb-461e-835f-669ff07dea2c",
   "metadata": {},
   "outputs": [
    {
     "data": {
      "text/html": [
       "<div>\n",
       "<style scoped>\n",
       "    .dataframe tbody tr th:only-of-type {\n",
       "        vertical-align: middle;\n",
       "    }\n",
       "\n",
       "    .dataframe tbody tr th {\n",
       "        vertical-align: top;\n",
       "    }\n",
       "\n",
       "    .dataframe thead th {\n",
       "        text-align: right;\n",
       "    }\n",
       "</style>\n",
       "<table border=\"1\" class=\"dataframe\">\n",
       "  <thead>\n",
       "    <tr style=\"text-align: right;\">\n",
       "      <th></th>\n",
       "      <th>Монета</th>\n",
       "      <th>Направление</th>\n",
       "      <th>Дата входа</th>\n",
       "      <th>Дата выхода</th>\n",
       "      <th>Прибыль</th>\n",
       "      <th>RSI_5M при входе</th>\n",
       "      <th>RSI_1H при входе</th>\n",
       "      <th>Прибыль/Убыток</th>\n",
       "      <th>Текущая прибыль</th>\n",
       "    </tr>\n",
       "  </thead>\n",
       "  <tbody>\n",
       "    <tr>\n",
       "      <th>0</th>\n",
       "      <td>RLCUSDT</td>\n",
       "      <td>Лонг</td>\n",
       "      <td>2023-04-13 08:38:50</td>\n",
       "      <td>2023-04-13 09:52:02</td>\n",
       "      <td>-0.8</td>\n",
       "      <td>31.94</td>\n",
       "      <td>51.68</td>\n",
       "      <td>0</td>\n",
       "      <td>-0.8</td>\n",
       "    </tr>\n",
       "    <tr>\n",
       "      <th>1</th>\n",
       "      <td>PEOPLEUSDT</td>\n",
       "      <td>Шорт</td>\n",
       "      <td>2023-04-13 10:20:13</td>\n",
       "      <td>2023-04-13 13:54:06</td>\n",
       "      <td>0.4</td>\n",
       "      <td>68.21</td>\n",
       "      <td>53.77</td>\n",
       "      <td>1</td>\n",
       "      <td>-0.4</td>\n",
       "    </tr>\n",
       "    <tr>\n",
       "      <th>2</th>\n",
       "      <td>PEOPLEUSDT</td>\n",
       "      <td>Шорт</td>\n",
       "      <td>2023-04-13 10:20:13</td>\n",
       "      <td>2023-04-13 15:34:19</td>\n",
       "      <td>-0.4</td>\n",
       "      <td>68.21</td>\n",
       "      <td>53.77</td>\n",
       "      <td>0</td>\n",
       "      <td>-0.8</td>\n",
       "    </tr>\n",
       "    <tr>\n",
       "      <th>3</th>\n",
       "      <td>BELUSDT</td>\n",
       "      <td>Шорт</td>\n",
       "      <td>2023-04-13 15:40:12</td>\n",
       "      <td>2023-04-13 15:57:18</td>\n",
       "      <td>-0.8</td>\n",
       "      <td>73.75</td>\n",
       "      <td>54.15</td>\n",
       "      <td>0</td>\n",
       "      <td>-1.6</td>\n",
       "    </tr>\n",
       "    <tr>\n",
       "      <th>4</th>\n",
       "      <td>BNBUSDT</td>\n",
       "      <td>Шорт</td>\n",
       "      <td>2023-04-13 15:57:47</td>\n",
       "      <td>2023-04-13 18:01:42</td>\n",
       "      <td>-0.8</td>\n",
       "      <td>87.34</td>\n",
       "      <td>59.69</td>\n",
       "      <td>0</td>\n",
       "      <td>-2.4</td>\n",
       "    </tr>\n",
       "    <tr>\n",
       "      <th>5</th>\n",
       "      <td>ETHUSDT</td>\n",
       "      <td>Шорт</td>\n",
       "      <td>2023-04-13 18:05:10</td>\n",
       "      <td>2023-04-13 19:55:45</td>\n",
       "      <td>-0.8</td>\n",
       "      <td>69.03</td>\n",
       "      <td>79.93</td>\n",
       "      <td>0</td>\n",
       "      <td>-3.2</td>\n",
       "    </tr>\n",
       "    <tr>\n",
       "      <th>6</th>\n",
       "      <td>KSMUSDT</td>\n",
       "      <td>Шорт</td>\n",
       "      <td>2023-04-13 19:56:57</td>\n",
       "      <td>2023-04-13 20:06:17</td>\n",
       "      <td>0.4</td>\n",
       "      <td>78.23</td>\n",
       "      <td>71.75</td>\n",
       "      <td>1</td>\n",
       "      <td>-2.8</td>\n",
       "    </tr>\n",
       "    <tr>\n",
       "      <th>7</th>\n",
       "      <td>KSMUSDT</td>\n",
       "      <td>Шорт</td>\n",
       "      <td>2023-04-13 19:56:57</td>\n",
       "      <td>2023-04-14 00:36:46</td>\n",
       "      <td>-0.4</td>\n",
       "      <td>78.23</td>\n",
       "      <td>71.75</td>\n",
       "      <td>0</td>\n",
       "      <td>-3.2</td>\n",
       "    </tr>\n",
       "    <tr>\n",
       "      <th>8</th>\n",
       "      <td>OCEANUSDT</td>\n",
       "      <td>Шорт</td>\n",
       "      <td>2023-04-14 00:45:27</td>\n",
       "      <td>2023-04-14 03:07:08</td>\n",
       "      <td>0.4</td>\n",
       "      <td>77.35</td>\n",
       "      <td>61.13</td>\n",
       "      <td>1</td>\n",
       "      <td>-2.8</td>\n",
       "    </tr>\n",
       "    <tr>\n",
       "      <th>9</th>\n",
       "      <td>OCEANUSDT</td>\n",
       "      <td>Шорт</td>\n",
       "      <td>2023-04-14 00:45:27</td>\n",
       "      <td>2023-04-14 04:27:30</td>\n",
       "      <td>-0.4</td>\n",
       "      <td>77.35</td>\n",
       "      <td>61.13</td>\n",
       "      <td>0</td>\n",
       "      <td>-3.2</td>\n",
       "    </tr>\n",
       "    <tr>\n",
       "      <th>10</th>\n",
       "      <td>OCEANUSDT</td>\n",
       "      <td>Шорт</td>\n",
       "      <td>2023-04-14 04:36:27</td>\n",
       "      <td>2023-04-14 05:27:13</td>\n",
       "      <td>-0.8</td>\n",
       "      <td>70.38</td>\n",
       "      <td>64.21</td>\n",
       "      <td>0</td>\n",
       "      <td>-4.0</td>\n",
       "    </tr>\n",
       "  </tbody>\n",
       "</table>\n",
       "</div>"
      ],
      "text/plain": [
       "        Монета Направление           Дата входа          Дата выхода  Прибыль  \\\n",
       "0      RLCUSDT        Лонг  2023-04-13 08:38:50  2023-04-13 09:52:02     -0.8   \n",
       "1   PEOPLEUSDT        Шорт  2023-04-13 10:20:13  2023-04-13 13:54:06      0.4   \n",
       "2   PEOPLEUSDT        Шорт  2023-04-13 10:20:13  2023-04-13 15:34:19     -0.4   \n",
       "3      BELUSDT        Шорт  2023-04-13 15:40:12  2023-04-13 15:57:18     -0.8   \n",
       "4      BNBUSDT        Шорт  2023-04-13 15:57:47  2023-04-13 18:01:42     -0.8   \n",
       "5      ETHUSDT        Шорт  2023-04-13 18:05:10  2023-04-13 19:55:45     -0.8   \n",
       "6      KSMUSDT        Шорт  2023-04-13 19:56:57  2023-04-13 20:06:17      0.4   \n",
       "7      KSMUSDT        Шорт  2023-04-13 19:56:57  2023-04-14 00:36:46     -0.4   \n",
       "8    OCEANUSDT        Шорт  2023-04-14 00:45:27  2023-04-14 03:07:08      0.4   \n",
       "9    OCEANUSDT        Шорт  2023-04-14 00:45:27  2023-04-14 04:27:30     -0.4   \n",
       "10   OCEANUSDT        Шорт  2023-04-14 04:36:27  2023-04-14 05:27:13     -0.8   \n",
       "\n",
       "    RSI_5M при входе  RSI_1H при входе  Прибыль/Убыток  Текущая прибыль  \n",
       "0              31.94             51.68               0             -0.8  \n",
       "1              68.21             53.77               1             -0.4  \n",
       "2              68.21             53.77               0             -0.8  \n",
       "3              73.75             54.15               0             -1.6  \n",
       "4              87.34             59.69               0             -2.4  \n",
       "5              69.03             79.93               0             -3.2  \n",
       "6              78.23             71.75               1             -2.8  \n",
       "7              78.23             71.75               0             -3.2  \n",
       "8              77.35             61.13               1             -2.8  \n",
       "9              77.35             61.13               0             -3.2  \n",
       "10             70.38             64.21               0             -4.0  "
      ]
     },
     "metadata": {},
     "output_type": "display_data"
    },
    {
     "name": "stdout",
     "output_type": "stream",
     "text": [
      "Суммарная прибыль, %: -4.0\n"
     ]
    }
   ],
   "source": [
    "stat_2['Прибыль/Убыток'] = np.where(stat_2['Прибыль'] > 0, 1, 0)\n",
    "stat_2['Текущая прибыль'] = stat_2['Прибыль'].cumsum().round(2)\n",
    "display(stat_2)\n",
    "print('Суммарная прибыль, %:', round(stat_2['Прибыль'].sum(), 2))"
   ]
  },
  {
   "cell_type": "code",
   "execution_count": 56,
   "id": "f164b379-b1df-4746-9eb9-907c7039db97",
   "metadata": {
    "tags": []
   },
   "outputs": [
    {
     "data": {
      "image/png": "[encoded data removed]",
      "text/plain": [
       "<Figure size 1300x300 with 1 Axes>"
      ]
     },
     "metadata": {},
     "output_type": "display_data"
    }
   ],
   "source": [
    "build_profit(stat_2)"
   ]
  },
  {
   "cell_type": "markdown",
   "id": "83d5c82c-dee8-4e94-9324-bffbe8e0898b",
   "metadata": {},
   "source": [
    "# Разбор ситуаций"
   ]
  },
  {
   "cell_type": "markdown",
   "id": "62dcb169-72a9-4c90-a640-e0d11d1fc116",
   "metadata": {
    "tags": []
   },
   "source": [
    "## Доля прибыльных сделок в зависимости от ситуации"
   ]
  },
  {
   "cell_type": "markdown",
   "id": "37e6c8ae-692a-4cb2-b8a0-0590c233a6ee",
   "metadata": {
    "tags": []
   },
   "source": [
    "### БОТ 1"
   ]
  },
  {
   "cell_type": "code",
   "execution_count": 57,
   "id": "7c427d85-793c-4fda-b548-5e555ffbc06b",
   "metadata": {
    "tags": []
   },
   "outputs": [],
   "source": [
    "Стат_1 = stat_1.pivot_table(index = 'Направление', values = 'Прибыль/Убыток', aggfunc = ['mean', 'count']).reset_index()\n",
    "Стат_1 = Стат_1.rename(columns={'mean' : 'Процент прибыльных сделок', 'count' : 'Количество сделок'})"
   ]
  },
  {
   "cell_type": "code",
   "execution_count": 58,
   "id": "cfc286ec-86ce-466b-952a-d47d918cdcec",
   "metadata": {
    "tags": []
   },
   "outputs": [
    {
     "data": {
      "text/html": [
       "<div>\n",
       "<style scoped>\n",
       "    .dataframe tbody tr th:only-of-type {\n",
       "        vertical-align: middle;\n",
       "    }\n",
       "\n",
       "    .dataframe tbody tr th {\n",
       "        vertical-align: top;\n",
       "    }\n",
       "\n",
       "    .dataframe thead tr th {\n",
       "        text-align: left;\n",
       "    }\n",
       "</style>\n",
       "<table border=\"1\" class=\"dataframe\">\n",
       "  <thead>\n",
       "    <tr>\n",
       "      <th></th>\n",
       "      <th>Направление</th>\n",
       "      <th>Процент прибыльных сделок</th>\n",
       "      <th>Количество сделок</th>\n",
       "    </tr>\n",
       "    <tr>\n",
       "      <th></th>\n",
       "      <th></th>\n",
       "      <th>Прибыль/Убыток</th>\n",
       "      <th>Прибыль/Убыток</th>\n",
       "    </tr>\n",
       "  </thead>\n",
       "  <tbody>\n",
       "    <tr>\n",
       "      <th>0</th>\n",
       "      <td>Лонг</td>\n",
       "      <td>1.000000</td>\n",
       "      <td>2</td>\n",
       "    </tr>\n",
       "    <tr>\n",
       "      <th>1</th>\n",
       "      <td>Шорт</td>\n",
       "      <td>0.333333</td>\n",
       "      <td>3</td>\n",
       "    </tr>\n",
       "  </tbody>\n",
       "</table>\n",
       "</div>"
      ],
      "text/plain": [
       "  Направление Процент прибыльных сделок Количество сделок\n",
       "                         Прибыль/Убыток    Прибыль/Убыток\n",
       "0        Лонг                  1.000000                 2\n",
       "1        Шорт                  0.333333                 3"
      ]
     },
     "metadata": {},
     "output_type": "display_data"
    }
   ],
   "source": [
    "display(Стат_1)"
   ]
  },
  {
   "cell_type": "markdown",
   "id": "0e6e93a2-67f2-4b84-be0c-2ab8c58f2066",
   "metadata": {},
   "source": [
    "### БОТ 2"
   ]
  },
  {
   "cell_type": "code",
   "execution_count": 59,
   "id": "84cc182d-5b58-4551-8930-daacddbfb566",
   "metadata": {
    "tags": []
   },
   "outputs": [],
   "source": [
    "Стат_2 = stat_2.pivot_table(index = 'Направление', values = 'Прибыль/Убыток', aggfunc = ['mean', 'count']).reset_index()\n",
    "Стат_2 = Стат_2.rename(columns={'mean' : 'Процент прибыльных сделок', 'count' : 'Количество сделок'})"
   ]
  },
  {
   "cell_type": "code",
   "execution_count": 60,
   "id": "59c1f862-c717-4e88-b67d-0bbf91772acf",
   "metadata": {
    "tags": []
   },
   "outputs": [
    {
     "data": {
      "text/html": [
       "<div>\n",
       "<style scoped>\n",
       "    .dataframe tbody tr th:only-of-type {\n",
       "        vertical-align: middle;\n",
       "    }\n",
       "\n",
       "    .dataframe tbody tr th {\n",
       "        vertical-align: top;\n",
       "    }\n",
       "\n",
       "    .dataframe thead tr th {\n",
       "        text-align: left;\n",
       "    }\n",
       "</style>\n",
       "<table border=\"1\" class=\"dataframe\">\n",
       "  <thead>\n",
       "    <tr>\n",
       "      <th></th>\n",
       "      <th>Направление</th>\n",
       "      <th>Процент прибыльных сделок</th>\n",
       "      <th>Количество сделок</th>\n",
       "    </tr>\n",
       "    <tr>\n",
       "      <th></th>\n",
       "      <th></th>\n",
       "      <th>Прибыль/Убыток</th>\n",
       "      <th>Прибыль/Убыток</th>\n",
       "    </tr>\n",
       "  </thead>\n",
       "  <tbody>\n",
       "    <tr>\n",
       "      <th>0</th>\n",
       "      <td>Лонг</td>\n",
       "      <td>0.0</td>\n",
       "      <td>1</td>\n",
       "    </tr>\n",
       "    <tr>\n",
       "      <th>1</th>\n",
       "      <td>Шорт</td>\n",
       "      <td>0.3</td>\n",
       "      <td>10</td>\n",
       "    </tr>\n",
       "  </tbody>\n",
       "</table>\n",
       "</div>"
      ],
      "text/plain": [
       "  Направление Процент прибыльных сделок Количество сделок\n",
       "                         Прибыль/Убыток    Прибыль/Убыток\n",
       "0        Лонг                       0.0                 1\n",
       "1        Шорт                       0.3                10"
      ]
     },
     "metadata": {},
     "output_type": "display_data"
    }
   ],
   "source": [
    "display(Стат_2)"
   ]
  },
  {
   "cell_type": "code",
   "execution_count": null,
   "id": "c2b5f019-77c0-4ed2-89aa-f835f9148515",
   "metadata": {},
   "outputs": [],
   "source": []
  }
 ],
 "metadata": {
  "kernelspec": {
   "display_name": "Python 3 (ipykernel)",
   "language": "python",
   "name": "python3"
  },
  "language_info": {
   "codemirror_mode": {
    "name": "ipython",
    "version": 3
   },
   "file_extension": ".py",
   "mimetype": "text/x-python",
   "name": "python",
   "nbconvert_exporter": "python",
   "pygments_lexer": "ipython3",
   "version": "3.9.10"
  },
  "widgets": {
   "application/vnd.jupyter.widget-state+json": {
    "state": {},
    "version_major": 2,
    "version_minor": 0
   }
  }
 },
 "nbformat": 4,
 "nbformat_minor": 5
}
