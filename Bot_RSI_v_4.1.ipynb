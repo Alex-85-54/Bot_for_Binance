{
 "cells": [
  {
   "cell_type": "markdown",
   "id": "ac4107ed-e6ec-4ca3-ae27-f97e4d71be20",
   "metadata": {
    "tags": []
   },
   "source": [
    "# Бот торгует по стратегии входа в сделку по индикатору RSI. Данные не потоковые."
   ]
  },
  {
   "cell_type": "code",
   "execution_count": 1,
   "id": "d708237d-e3d0-423c-aa86-4ae5b69d235b",
   "metadata": {
    "tags": []
   },
   "outputs": [],
   "source": [
    "from binance import Client, ThreadedWebsocketManager, ThreadedDepthCacheManager\n",
    "from binance.um_futures import UMFutures\n",
    "from binance.exceptions import BinanceAPIException\n",
    "import pandas as pd\n",
    "import numpy as np\n",
    "import matplotlib.pyplot as plt\n",
    "import keys\n",
    "import time\n",
    "import logging\n",
    "import requests\n",
    "import talib \n",
    "from talib import abstract\n",
    "from tqdm import tqdm, tqdm_notebook\n",
    "from selenium.webdriver.support.ui import WebDriverWait\n",
    "from selenium.webdriver.support import expected_conditions as EC\n",
    "from selenium.webdriver.common.action_chains import ActionChains\n",
    "from selenium import webdriver\n",
    "from selenium.webdriver.common.by import By\n",
    "from selenium.webdriver.common.keys import Keys\n",
    "pd.options.mode.chained_assignment = None # отключение дебильного предупреждения"
   ]
  },
  {
   "cell_type": "markdown",
   "id": "10de58c2-d20a-4b7b-9def-cfe40f785bb2",
   "metadata": {
    "tags": []
   },
   "source": [
    "# Подключение к бирже"
   ]
  },
  {
   "cell_type": "code",
   "execution_count": 2,
   "id": "78af1037-2d1a-4af1-b0a7-ec12b5aea21a",
   "metadata": {},
   "outputs": [],
   "source": [
    "client = Client(keys.api_key, keys.secret_key)"
   ]
  },
  {
   "cell_type": "markdown",
   "id": "8ac88b94-25d1-4133-8422-a8a662999ffb",
   "metadata": {
    "tags": []
   },
   "source": [
    "# Задать переменные"
   ]
  },
  {
   "cell_type": "code",
   "execution_count": 3,
   "id": "1b19867d-6766-41d8-af8a-35c73bab1416",
   "metadata": {
    "tags": []
   },
   "outputs": [],
   "source": [
    "#coins = ['BELUSDT', 'BNBUSDT', '1INCHUSDT', 'C98USDT', 'CHRUSDT', 'CHZUSDT', 'CTKUSDT', 'DOGEUSDT', 'EGLDUSDT', 'ENSUSDT','ETHUSDT', 'KSMUSDT', \n",
    "#             'LINKUSDT', 'LTCUSDT', 'MASKUSDT', 'MATICUSDT', 'OCEANUSDT', 'OPUSDT', 'PEOPLEUSDT', 'RENUSDT', 'RLCUSDT']"
   ]
  },
  {
   "cell_type": "code",
   "execution_count": 4,
   "id": "879a66ec-ee11-4acd-9b4e-787a042a782d",
   "metadata": {
    "tags": []
   },
   "outputs": [],
   "source": [
    "ПОРОГ_RSI_1Ч_ШОРТ = 68 # значение RSI для открытия шорт 1Ч TM\n",
    "ПОРОГ_RSI_5M_ШОРТ = 68 # значение RSI для открытия шорт 5М TM\n",
    "ПОРОГ_RSI_ЗАКРЫТ_ШОРТА = 32  # значение RSI для закрытия шорт\n",
    "ПОРОГ_RSI_1Ч_ЛОНГ = 32 # значение RSI для открытия лонг 1Ч TM\n",
    "ПОРОГ_RSI_5M_ЛОНГ = 32  # значение RSI для открытия лонг 5М TM\n",
    "ПОРОГ_RSI_ЗАКРЫТ_ЛОНГА = 68   # значение RSI для закрытия лонг\n",
    "WINDOW_SLOW_MA = 100\n",
    "INTERVAL = Client.KLINE_INTERVAL_5MINUTE  # младший таймфрейм \n",
    "INTERVAL_OLD_TM = Client.KLINE_INTERVAL_1HOUR    # старший таймфрейм \n",
    "LOOKBACK = '80' # количество минут истории свечей, вводим в ковычках, должно быть больше чем 14 свечей. LOOKBACK = INTERVAL * 14 + 50 СВЕЧЕЙ\n",
    "PAUSE_BETWEEN_GET_DATA = 10 # период между обновлением данных в секундах\n",
    "TAKE_PROFIT_PROC = 2.0 #  это проценты\n",
    "STOP_LOSS_PROC = 0.8   #  это проценты"
   ]
  },
  {
   "cell_type": "markdown",
   "id": "a948a877-96f1-4e6a-82f0-ea2271b6ad81",
   "metadata": {
    "tags": []
   },
   "source": [
    "# Отправить сообщение в tlg"
   ]
  },
  {
   "cell_type": "code",
   "execution_count": 5,
   "id": "7c36a2d9-a36c-4e13-9833-9eb3353c382b",
   "metadata": {},
   "outputs": [],
   "source": [
    "def send_tg_message(text):\n",
    "    requests.post(\n",
    "    'https://api.telegram.org/' +\n",
    "    'bot{}/sendMessage'.format(keys.TOKEN_tlg_bot), \n",
    "    params=dict(chat_id=keys.chat_id_tlg, text=text)\n",
    "    )"
   ]
  },
  {
   "cell_type": "markdown",
   "id": "5ec5b2bb-06f9-4439-a81d-b47575fd390e",
   "metadata": {
    "tags": []
   },
   "source": [
    "# Получение и обработка данных"
   ]
  },
  {
   "cell_type": "markdown",
   "id": "888c9569-466d-4bb2-a111-da7e213ed601",
   "metadata": {},
   "source": [
    "## Данные старшего таймфрейма"
   ]
  },
  {
   "cell_type": "code",
   "execution_count": 6,
   "id": "19ecc403-6a74-448d-9de3-eb151cfac5a5",
   "metadata": {
    "tags": []
   },
   "outputs": [],
   "source": [
    "def get_data_older_tm(symbol, interval, lookback):\n",
    "    klines = pd.DataFrame(client.get_historical_klines(symbol, interval, lookback + 'min ago UTC', limit=1000))\n",
    "    klines.columns=['open_time', 'open', 'high', 'low', 'close', 'volume', 'Kline_close_time', 'Quote_asset_volume',\n",
    "               'Number_of_trades', 'Taker_buy_base_asset_volume', 'Taker_buy_quote_asset_volume', 'ignore']\n",
    "    klines = klines.iloc[:, :6]\n",
    "    klines['open_time'] = pd.to_datetime(klines['open_time'], unit='ms')\n",
    "    float_columns = ['open', 'high', 'low', 'close', 'volume']\n",
    "    klines[float_columns] = klines[float_columns].astype('float')\n",
    "    klines['slow_sma'] = klines['close'].rolling(window = WINDOW_SLOW_MA).mean()\n",
    "    klines['global_trend'] =  np.where((klines['slow_sma'] / klines['slow_sma'].rolling(window = 3).mean()) >= 1, 1, 0)\n",
    "    return klines"
   ]
  },
  {
   "cell_type": "code",
   "execution_count": 7,
   "id": "53db9f14-67ac-4474-ae3d-a3d7eb5a3ebf",
   "metadata": {
    "tags": []
   },
   "outputs": [],
   "source": [
    "# df_old_tm =  get_data_older_tm('BTCUSDT', interval = '1h', lookback = '6120')"
   ]
  },
  {
   "cell_type": "markdown",
   "id": "ce2f6985-f467-4619-9acb-7504ec0b79b4",
   "metadata": {
    "tags": []
   },
   "source": [
    "## Данные для трейдов: поиск точки входа, выхода"
   ]
  },
  {
   "cell_type": "code",
   "execution_count": 8,
   "id": "eb75b1fc-249f-4277-8fd2-b49b71748ac0",
   "metadata": {
    "tags": []
   },
   "outputs": [],
   "source": [
    "def get_data_search_point(symbol, interval, lookback):\n",
    "    klines = pd.DataFrame(client.get_historical_klines(symbol, interval, lookback + 'min ago UTC', limit=1000))\n",
    "    klines.columns=['open_time', 'open', 'high', 'low', 'close', 'volume', 'Kline_close_time', 'Quote_asset_volume',\n",
    "               'Number_of_trades', 'Taker_buy_base_asset_volume', 'Taker_buy_quote_asset_volume', 'ignore']\n",
    "    klines = klines.iloc[:, :6]\n",
    "    klines['open_time'] = pd.to_datetime(klines['open_time'], unit='ms')\n",
    "    float_columns = ['open', 'high', 'low', 'close', 'volume']\n",
    "    klines[float_columns] = klines[float_columns].astype('float')\n",
    "    klines['fast_sma'] = klines['close'].rolling(window = 2).mean()\n",
    "    klines['RSI'] = talib.RSI(klines['close'], timeperiod = 14)\n",
    "    #klines['trend_power'] =  klines['fast_sma']/klines['fast_sma'].shift()\n",
    "    return klines"
   ]
  },
  {
   "cell_type": "code",
   "execution_count": 9,
   "id": "50869e1d-ad62-4766-8423-c5aa9dc82c13",
   "metadata": {
    "tags": []
   },
   "outputs": [],
   "source": [
    "# get_data_search_point('BTCUSDT', interval = INTERVAL, lookback = LOOKBACK)"
   ]
  },
  {
   "cell_type": "markdown",
   "id": "145811cd-1768-4d1d-88aa-1be08da6d899",
   "metadata": {
    "tags": []
   },
   "source": [
    "# Построить график"
   ]
  },
  {
   "cell_type": "markdown",
   "id": "49f7252d-bcf0-4c13-878d-e49acf4552bb",
   "metadata": {},
   "source": [
    "Построить график цены:"
   ]
  },
  {
   "cell_type": "code",
   "execution_count": 10,
   "id": "3fe940db-d636-410e-a95f-54a118a39621",
   "metadata": {
    "tags": []
   },
   "outputs": [],
   "source": [
    "def build_graph(data):    \n",
    "    plt.figure(figsize=(13, 3))\n",
    "    plt.plot(data['open_time'], data['close'],  label = 'Close_price')\n",
    "    plt.ylabel('Close_price USDT')\n",
    "    plt.xlim(data['open_time'].iloc[0], data['open_time'].iloc[-1])\n",
    "    plt.legend(loc = 'upper left')\n",
    "    plt.grid()\n",
    "    return plt.show() "
   ]
  },
  {
   "cell_type": "code",
   "execution_count": 11,
   "id": "72733978-1945-47b2-969c-3df09198558c",
   "metadata": {
    "tags": []
   },
   "outputs": [],
   "source": [
    "#build_graph(get_data_search_point('BTCUSDT', interval = INTERVAL, lookback = LOOKBACK))"
   ]
  },
  {
   "cell_type": "markdown",
   "id": "1af55a30-0608-46fc-843d-63e9f5b99089",
   "metadata": {},
   "source": [
    "Построить график RSI"
   ]
  },
  {
   "cell_type": "code",
   "execution_count": 12,
   "id": "c843ea3e-d9ae-4717-a9fe-162fc1582b48",
   "metadata": {
    "tags": []
   },
   "outputs": [],
   "source": [
    "def build_graph_RSI(data):    \n",
    "    plt.figure(figsize=(13, 3))\n",
    "    plt.plot(data['open_time'], data['RSI'], label = 'RSI_14')\n",
    "    plt.ylabel('RSI_14')\n",
    "    plt.ylim(0, 100)\n",
    "    plt.xlim(data['open_time'].iloc[0], data['open_time'].iloc[-1])\n",
    "    plt.legend(loc = 'upper left')\n",
    "    plt.grid()\n",
    "    return plt.show() "
   ]
  },
  {
   "cell_type": "code",
   "execution_count": 13,
   "id": "814be2d9-3222-4997-9ea3-4e61c320f264",
   "metadata": {
    "tags": []
   },
   "outputs": [],
   "source": [
    "def build_graph_TR_POW(data):    \n",
    "    plt.figure(figsize=(13, 3))\n",
    "    plt.plot(data['open_time'], data['trend_power'], label = 'Trend_power', color='g')\n",
    "    plt.ylabel('Trend_power')\n",
    "    plt.ylim(0.99700, 1.00300)\n",
    "    plt.xlim(data['open_time'].iloc[0], data['open_time'].iloc[-1])\n",
    "    plt.legend(loc = 'upper left')\n",
    "    plt.grid()\n",
    "    return plt.show() "
   ]
  },
  {
   "cell_type": "code",
   "execution_count": 14,
   "id": "3393014e-5afa-486b-be0a-16bc1cff88ce",
   "metadata": {
    "tags": []
   },
   "outputs": [],
   "source": [
    "#build_graph_TR_POW(get_data_search_point('BTCUSDT', interval = INTERVAL, lookback = LOOKBACK))"
   ]
  },
  {
   "cell_type": "markdown",
   "id": "b4925b24-d67d-48a5-b3d1-d9027c393090",
   "metadata": {
    "tags": []
   },
   "source": [
    "# Получить текущее время"
   ]
  },
  {
   "cell_type": "code",
   "execution_count": 15,
   "id": "59f87a17-bf52-4b15-b8ad-991b4901022a",
   "metadata": {
    "tags": []
   },
   "outputs": [],
   "source": [
    "def get_time():\n",
    "    t = time.localtime() \n",
    "    current_time = time.strftime(\"%Y-%m-%d__%H:%M:%S\", t)\n",
    "    current_time = pd.to_datetime(current_time, format='%Y-%m-%d__%H:%M:%S')\n",
    "    return current_time"
   ]
  },
  {
   "cell_type": "markdown",
   "id": "0fce1996-645e-4d9e-8bdd-e5a3c168bca2",
   "metadata": {
    "tags": []
   },
   "source": [
    "# Получить текущую цену монеты"
   ]
  },
  {
   "cell_type": "code",
   "execution_count": 16,
   "id": "8a2b396c-569a-4d2b-bd32-67dc89b94352",
   "metadata": {
    "tags": []
   },
   "outputs": [],
   "source": [
    "def get_price(coin):  # coin - тикер монеты\n",
    "    df = pd.DataFrame(client.get_all_tickers())\n",
    "    price_coin = df[df['symbol'] == coin]['price'].values[0]\n",
    "    price_coin = pd.to_numeric(price_coin)\n",
    "    return price_coin"
   ]
  },
  {
   "cell_type": "markdown",
   "id": "1e0fe517-20cc-4f7d-8216-67800b7ffb4e",
   "metadata": {
    "tags": []
   },
   "source": [
    "# Опреции со статистикой"
   ]
  },
  {
   "cell_type": "code",
   "execution_count": 17,
   "id": "753935a7-9c2f-42f5-a1c0-4bef4310975b",
   "metadata": {},
   "outputs": [],
   "source": [
    "coin_st = []\n",
    "side_position_st = []\n",
    "date_entry_st = []\n",
    "date_exit_st = []\n",
    "profit_st = []\n",
    "rsi_5m_st = []\n",
    "rsi_1h_st = []"
   ]
  },
  {
   "cell_type": "markdown",
   "id": "f22ccb6d-76d3-4ada-ab23-b5316cf0b827",
   "metadata": {
    "tags": []
   },
   "source": [
    "## Собрать статистику"
   ]
  },
  {
   "cell_type": "code",
   "execution_count": 18,
   "id": "4a481412-5458-4684-8ade-6577d4c74c89",
   "metadata": {
    "tags": []
   },
   "outputs": [],
   "source": [
    "def collecting_statistics(coin, side_position, date_entry, date_exit, profit, RSI_5M, RSI_1H):\n",
    "    coin_st.append(coin)\n",
    "    side_position_st.append(side_position)\n",
    "    date_entry_st.append(date_entry)\n",
    "    date_exit_st.append(date_exit)\n",
    "    profit_st.append(profit)\n",
    "    rsi_5m_st.append(RSI_5M)\n",
    "    rsi_1h_st.append(RSI_1H)\n",
    "    statistics = pd.DataFrame({'Монета': coin_st,\n",
    "                               'Направление': side_position_st,\n",
    "                               'Дата входа': date_entry_st,\n",
    "                               'Дата выхода': date_exit_st,\n",
    "                               'Прибыль': profit_st,\n",
    "                               'RSI_5M при входе': rsi_5m_st,\n",
    "                               'RSI_1H при входе': rsi_1h_st\n",
    "                                })\n",
    "    statistics.to_csv('C:/Users/1/Desktop/Proj/statistic.csv', index_label=False)\n",
    "    #statistics.to_csv('C:/Users/regio/Desktop/Робот/statisitic.csv', index_label=False)\n",
    "    return statistics"
   ]
  },
  {
   "cell_type": "markdown",
   "id": "a9e75ac6-90c7-418b-ad7d-2afacac1734b",
   "metadata": {
    "tags": []
   },
   "source": [
    "## Обнулить статистику"
   ]
  },
  {
   "cell_type": "code",
   "execution_count": 20,
   "id": "7ef39338-3dcb-48b4-a2bd-9c77c469b6b5",
   "metadata": {
    "tags": []
   },
   "outputs": [],
   "source": [
    "def clear_statistics():\n",
    "    stat = pd.read_csv('C:/Users/1/Desktop/Proj/statistic.csv')\n",
    "    #stat = pd.read_csv('C:/Users/regio/Desktop/Робот/statisitic.csv')\n",
    "    stat.drop(stat.index, inplace =True)\n",
    "    stat.to_csv('C:/Users/1/Desktop/Proj/statistic.csv', index_label=False)\n",
    "    #stat.to_csv('C:/Users/regio/Desktop/Робот/statisitic.csv', index_label=False)\n",
    "    return stat    "
   ]
  },
  {
   "cell_type": "markdown",
   "id": "f18b7a60-6ad1-4e28-8953-d08bc3ed6eee",
   "metadata": {},
   "source": [
    "Чтобы обнулить статистику - убрать решетку в начале строки и запустить ячейку. Решетку нужно вернуть обратно!!!"
   ]
  },
  {
   "cell_type": "code",
   "execution_count": 21,
   "id": "a1e1b2de-c405-4117-9cf9-091ccc390db1",
   "metadata": {
    "tags": []
   },
   "outputs": [],
   "source": [
    "#clear_statistics() "
   ]
  },
  {
   "cell_type": "markdown",
   "id": "22c0a5b2-4bf0-4d1f-b0da-ac7fbcd95a59",
   "metadata": {
    "tags": []
   },
   "source": [
    "# Парсинг RSI"
   ]
  },
  {
   "cell_type": "code",
   "execution_count": 22,
   "id": "2242ef86-b4ff-4dea-adbb-a5a4bdc78aef",
   "metadata": {
    "tags": []
   },
   "outputs": [],
   "source": [
    "url  = 'https://ru.tradingview.com/chart/RK3tIB3E/'"
   ]
  },
  {
   "cell_type": "markdown",
   "id": "011236a2-62c9-41bb-9869-a649949d4e3a",
   "metadata": {},
   "source": [
    "Запуск браузера"
   ]
  },
  {
   "cell_type": "code",
   "execution_count": 23,
   "id": "bc522528-7445-409f-934a-6e31f44adcaf",
   "metadata": {
    "tags": []
   },
   "outputs": [],
   "source": [
    "options_chrome = webdriver.ChromeOptions()\n",
    "options_chrome.add_argument('user-data-dir=C:\\\\Users\\\\1\\\\AppData\\\\Local\\\\Google\\\\Chrome\\\\User Data\\\\Default')\n",
    "options_chrome.add_argument(\"--headless\")\n",
    "browser = webdriver.Chrome(options = options_chrome)\n",
    "browser.get(url)\n",
    "# headless - скрыть браузер во время работы, указывается в опциях"
   ]
  },
  {
   "cell_type": "markdown",
   "id": "8c49f638-464b-4a37-b499-44eebf8be052",
   "metadata": {},
   "source": [
    "Функция для изменения текущей монеты в трейдингвью"
   ]
  },
  {
   "cell_type": "code",
   "execution_count": 24,
   "id": "8daa85f8-cf77-4e9d-86fb-befe87f006eb",
   "metadata": {
    "tags": []
   },
   "outputs": [],
   "source": [
    "def input_coin(coin):   \n",
    "    WebDriverWait(browser, 10).until(EC.element_to_be_clickable((By.ID, 'header-toolbar-symbol-search'))).click()\n",
    "    WebDriverWait(browser, 10).until(EC.element_to_be_clickable((By.XPATH, '//*[@id=\"overlap-manager-root\"]/div/div/div[2]/div/div[2]/div[1]/input'))).send_keys(coin, Keys.RETURN)\n",
    "    time.sleep(0.5)\n",
    "    return coin"
   ]
  },
  {
   "cell_type": "code",
   "execution_count": 25,
   "id": "638e1c6d-01fd-4964-be80-b2220f6e07bb",
   "metadata": {
    "tags": []
   },
   "outputs": [],
   "source": [
    "#input_coin('ADAUSDT')"
   ]
  },
  {
   "cell_type": "markdown",
   "id": "427c5656-2049-4f3a-991e-90f8e9686d70",
   "metadata": {},
   "source": [
    "Смена таймфрейма на 1Ч"
   ]
  },
  {
   "cell_type": "code",
   "execution_count": 26,
   "id": "7e41b90b-12af-494c-a860-d3b9840629c5",
   "metadata": {
    "tags": []
   },
   "outputs": [],
   "source": [
    "def change_TM_1H():\n",
    "    a = WebDriverWait(browser, 10).until(EC.element_to_be_clickable((By.XPATH, '//*[@id=\"header-toolbar-intervals\"]/div/button[2]'))).click()\n",
    "    return a"
   ]
  },
  {
   "cell_type": "code",
   "execution_count": 27,
   "id": "e159d002-1d93-42f4-a7a8-74882512d047",
   "metadata": {
    "tags": []
   },
   "outputs": [],
   "source": [
    "#change_TM_1H()"
   ]
  },
  {
   "cell_type": "markdown",
   "id": "fc040669-f8b1-4015-b141-bea5b194bf55",
   "metadata": {
    "tags": []
   },
   "source": [
    "Смена таймфрейма на 5М"
   ]
  },
  {
   "cell_type": "code",
   "execution_count": 28,
   "id": "d06964ed-982f-4316-b567-a9a17ecf7e3e",
   "metadata": {
    "tags": []
   },
   "outputs": [],
   "source": [
    "def change_TM_5M():\n",
    "    a = WebDriverWait(browser, 10).until(EC.element_to_be_clickable((By.XPATH, '//*[@id=\"header-toolbar-intervals\"]/div/button[1]'))).click()\n",
    "    return a"
   ]
  },
  {
   "cell_type": "code",
   "execution_count": 29,
   "id": "4862d8af-f2f3-460a-bcb5-9d17f832bf9f",
   "metadata": {
    "tags": []
   },
   "outputs": [],
   "source": [
    "#change_TM_5M()"
   ]
  },
  {
   "cell_type": "markdown",
   "id": "b4b328a8-d5df-4873-912e-4a1218ca53cb",
   "metadata": {},
   "source": [
    "Функция парсинга RSI"
   ]
  },
  {
   "cell_type": "code",
   "execution_count": 30,
   "id": "7089a4b9-1999-4627-80d3-91778fc78c9c",
   "metadata": {
    "tags": []
   },
   "outputs": [],
   "source": [
    "def calc_RSI():\n",
    "    RSI = WebDriverWait(browser, 10).until(EC.element_to_be_clickable((By.XPATH, '/html/body/div[2]/div[1]/div[2]/div[1]/div/table/tr[3]/td[2]/div/div[2]/div/div[2]/div[2]/div[2]/div/div[1]/div')))\n",
    "    RSI = RSI.text\n",
    "    RSI = float(RSI)\n",
    "    return RSI"
   ]
  },
  {
   "cell_type": "code",
   "execution_count": 31,
   "id": "f96823a4-4e7f-4fea-8604-098546ea473e",
   "metadata": {
    "tags": []
   },
   "outputs": [],
   "source": [
    "#browser.quit()"
   ]
  },
  {
   "cell_type": "code",
   "execution_count": 32,
   "id": "64af5f65-6b45-4bc9-8c72-e830114baf2d",
   "metadata": {
    "tags": []
   },
   "outputs": [],
   "source": [
    "#browser.close()"
   ]
  },
  {
   "cell_type": "markdown",
   "id": "335d70c8-3eab-4949-8efe-74e409f80c6f",
   "metadata": {
    "jp-MarkdownHeadingCollapsed": true,
    "tags": []
   },
   "source": [
    "# Расчет STOP-LOSS И TAKE_PROFIT"
   ]
  },
  {
   "cell_type": "markdown",
   "id": "ccbbb374-02bc-4598-8a20-e334766d879f",
   "metadata": {},
   "source": [
    " условие закрытия позиции, стоп-лосс - умножаем, тэйк - делим"
   ]
  },
  {
   "cell_type": "code",
   "execution_count": 33,
   "id": "4f3c952e-3328-4aad-934e-25461ba539c7",
   "metadata": {
    "tags": []
   },
   "outputs": [],
   "source": [
    "def STOP_LOSS_CALC(STOP_LOSS):\n",
    "    stop_loss = price_entry * (1 + (STOP_LOSS/100))\n",
    "    return stop_loss"
   ]
  },
  {
   "cell_type": "code",
   "execution_count": 34,
   "id": "1f1ebbcc-5e70-4ca7-bb2b-8f9230986f07",
   "metadata": {
    "tags": []
   },
   "outputs": [],
   "source": [
    "def TAKE_PROFIT_CALC(TAKE_PROFIT):\n",
    "    take_profit = price_entry / (1 + TAKE_PROFIT/100)\n",
    "    return take_profit"
   ]
  },
  {
   "cell_type": "code",
   "execution_count": 35,
   "id": "038a6935-84a6-492c-b369-d199bfae2e12",
   "metadata": {
    "tags": []
   },
   "outputs": [],
   "source": [
    "def STOP_LOSS_CALC_LONG(STOP_LOSS):\n",
    "    stop_loss = price_entry / (1 + (STOP_LOSS/100))\n",
    "    return stop_loss                          "
   ]
  },
  {
   "cell_type": "code",
   "execution_count": 36,
   "id": "a2c77eb3-f5a7-4c1f-967d-8b59494cbfc8",
   "metadata": {
    "tags": []
   },
   "outputs": [],
   "source": [
    "def TAKE_PROFIT_CALC_LONG(TAKE_PROFIT):\n",
    "    take_profit = price_entry * (1 + TAKE_PROFIT/100)\n",
    "    return take_profit"
   ]
  },
  {
   "cell_type": "markdown",
   "id": "5ab332d0-0234-4bc8-a552-39c5b0668dcf",
   "metadata": {
    "tags": []
   },
   "source": [
    "# БОТ"
   ]
  },
  {
   "cell_type": "markdown",
   "id": "db345dfc-746e-48f9-b8d0-e02b57a053b1",
   "metadata": {},
   "source": [
    "Список монет, которыми торгуем"
   ]
  },
  {
   "cell_type": "code",
   "execution_count": 37,
   "id": "46119918-7a7a-4118-9815-6bf20dd73de1",
   "metadata": {
    "tags": []
   },
   "outputs": [],
   "source": [
    "coins = ['BATUSDT', 'APEUSDT', 'NEARUSDT', 'NEOUSDT', 'DUSKUSDT', 'ANKRUSDT', 'COCOSUSDT', 'MKRUSDT', 'YFIUSDT', 'ZRXUSDT', 'LINAUSDT', \n",
    "             'DYDXUSDT', 'ALGOUSDT', 'BNXUSDT', 'GMTUSDT', 'COMPUSDT', 'XRPUSDT', 'STORJUSDT', 'ADAUSDT', 'BANDUSDT']"
   ]
  },
  {
   "cell_type": "code",
   "execution_count": 38,
   "id": "48f0767e-55dc-4b12-8979-9d2b1e34c5a1",
   "metadata": {
    "tags": []
   },
   "outputs": [],
   "source": [
    "def bot(interval = INTERVAL, interval_old_tm = INTERVAL_OLD_TM, lookback = LOOKBACK, open_position=False, search_point = False): # buy_amt - сумма в $, на которую будем заходить. open_position=False - чтобы не открывать много позиций,\n",
    "                                                                                                                                                   # если позиция будет открыта, то функция не сработает         \n",
    "    # qty = round(buy_amt/df.close.iloc[-1], 1) # объем, на который будем заходить(количество монет)\n",
    "    print('Поиск монеты....')\n",
    "    for coin in tqdm(coins):\n",
    "        try:\n",
    "            input_coin(coin)                                       # делаем монету текущей в трейдингвью  \n",
    "            time.sleep(1)\n",
    "            change_TM_5M()\n",
    "            time.sleep(2)\n",
    "            RSI_5M = calc_RSI()                                   # получаем RSI по ней  \n",
    "            change_TM_1H()\n",
    "            time.sleep(2)\n",
    "            RSI_1H = calc_RSI()\n",
    "        except:              \n",
    "            print('Ошибка парсинга')\n",
    "            send_tg_message('Ошибка парсинга БОТ 1')\n",
    "            browser.refresh()\n",
    "            time.sleep(60)\n",
    "            input_coin(coin)                                       # делаем монету текущей в трейдингвью                                    \n",
    "            change_TM_5M()\n",
    "            time.sleep(2)\n",
    "            RSI_5M = calc_RSI()                                   # получаем RSI по ней  \n",
    "            change_TM_1H()\n",
    "            time.sleep(2)\n",
    "            RSI_1H = calc_RSI()\n",
    "        \n",
    "   #######################################################################################################################################################         \n",
    "        if RSI_5M > ПОРОГ_RSI_5M_ШОРТ:       # если RSI выше порогового значения               РАЗДЕЛ RSI > 70\n",
    "            search_point = True  # включение поиска точки входа\n",
    "            \n",
    "            while search_point == True:   \n",
    "\n",
    "                try:\n",
    "                    df = get_data_search_point(coin, interval, lookback) # получаем историю свечей по ней\n",
    "\n",
    "                except BinanceAPIException as e:  # обработки ошибок загрузки данных\n",
    "                    print(e)\n",
    "                    time.sleep(60)\n",
    "                    df = get_data_search_point(coin, interval, lookback) # получаем историю свечей по ней              \n",
    "\n",
    "                if df['RSI'].iloc[-1] >= df['RSI'].iloc[-2]:   #  условие поиска        \n",
    "\n",
    "                    print(f'Поиск точки входа по монете: {coin}')\n",
    "                    time.sleep(PAUSE_BETWEEN_GET_DATA)\n",
    "\n",
    "                elif  df['RSI'].iloc[-1] < df['RSI'].iloc[-2]:  # поиск закончен - вход в позицию\n",
    "\n",
    "                      #############################################################################################################################################\n",
    "                    open_position = True\n",
    "                    side_position = 'Шорт'\n",
    "                    price_entry = df['close'].iloc[-1]\n",
    "                    date_entry = get_time()\n",
    "                    stop_loss = price_entry * (1 + (STOP_LOSS_PROC/100))\n",
    "                    print(f'Открыта позиция в шорт по монете: {coin}, цена: {price_entry}, время: {date_entry}')\n",
    "                    send_tg_message(f'Открыта позиция в шорт по монете: {coin}, цена: {price_entry}, время: {date_entry}')\n",
    "                    # отправка ордера будет сдесь\n",
    "                    time.sleep(PAUSE_BETWEEN_GET_DATA)\n",
    "                    search_point = False    # флаг поиск точки входа - отключить\n",
    "\n",
    "                    while open_position == True: # включение поиска точки выхода\n",
    "\n",
    "                        try:\n",
    "                            df = get_data_search_point(coin, interval, lookback) # получаем данные в том же таймфрейме\n",
    "                            \n",
    "\n",
    "                        except BinanceAPIException as e:              # для обработки ошибок используем библиотеку от Бинансе\n",
    "                            print(e)\n",
    "                            time.sleep(60)\n",
    "                            df = get_data_search_point(coin, interval, lookback)             \n",
    "             \n",
    "                        if df['close'].iloc[-1] >= stop_loss:  # СРАБОТАЛ STOP_LOSS\n",
    "                            date_exit = get_time()\n",
    "                            price_exit = df['close'].iloc[-1]\n",
    "                            profit = -STOP_LOSS_PROC\n",
    "                            print('Позиция закрыта по STOP_LOSS')\n",
    "                            print(f'Закрыта позиция в шорт по STOP_LOSS, монета: {coin}, цена: {price_exit}, прибыль: {profit}, время: {date_exit}')\n",
    "                            send_tg_message(f'Закрыта позицию в шорт по монете: {coin}, время: {date_exit}, цена: {price_exit}, прибыль: {profit}')\n",
    "\n",
    "                            collecting_statistics(coin, side_position, date_entry, date_exit, profit, RSI_5M, RSI_1H) # сбор СТАТИСТИКИ\n",
    "\n",
    "                            time.sleep(PAUSE_BETWEEN_GET_DATA)\n",
    "\n",
    "                            open_position = False    # флаг - позиция закрыта\n",
    "                            \n",
    "                            \n",
    "                            \n",
    "                        elif df['close'].iloc[-1] <= price_entry / (1 + 0.8/100): # CРАБОТАЛ ПРОМЕЖУТ ТЭЙК\n",
    "                                date_exit = get_time()\n",
    "                                price_exit = df['close'].iloc[-1]\n",
    "                                profit = 0.4\n",
    "\n",
    "                                print('Позиция закрыта по промежуточному ТЭЙКУ')\n",
    "                                print(f'Закрыта позиция в шорт по промежуточному ТЭЙКУ, монета: {coin}, цена: {price_exit}, прибыль: {profit}, время: {date_exit}')\n",
    "                                send_tg_message(f'Закрыта позицию в шорт по монете: {coin}, время: {date_exit}, цена: {price_exit}, прибыль: {profit}')\n",
    "\n",
    "                                collecting_statistics(coin, side_position, date_entry, date_exit, profit, RSI_5M, RSI_1H) # сбор СТАТИСТИКИ\n",
    "\n",
    "                                time.sleep(PAUSE_BETWEEN_GET_DATA)\n",
    "\n",
    "                                open_position = False    # флаг - позиция закрыта\n",
    "                                open_position_1_2 = True\n",
    "                                \n",
    "                                while open_position_1_2 == True:\n",
    "                                    \n",
    "                                    try:\n",
    "                                        df = get_data_search_point(coin, interval, lookback) # получаем данные в том же таймфрейме\n",
    "                                        RSI = calc_RSI()    # парсим RSI\n",
    "\n",
    "                                    except BinanceAPIException as e:              # для обработки ошибок используем библиотеку от Бинансе\n",
    "                                        print(e)\n",
    "                                        time.sleep(60)\n",
    "                                        df = get_data_search_point(coin, interval, lookback)                        \n",
    "                                    except:              \n",
    "                                        print('Ошибка парсинга')\n",
    "                                        browser.refresh()\n",
    "                                        time.sleep(60)\n",
    "                                        input_coin(coin)                                            # делаем монету текущей в трейдингвью\n",
    "                                        RSI = calc_RSI()                                            # получаем RSI по ней     \n",
    "\n",
    "                                    if df['close'].iloc[-1] >= stop_loss:  # СРАБОТАЛ STOP_LOSS\n",
    "                                        date_exit = get_time()\n",
    "                                        price_exit = df['close'].iloc[-1]\n",
    "                                        profit = -STOP_LOSS_PROC/2\n",
    "                                        print('Позиция закрыта по STOP_LOSS')\n",
    "                                        print(f'Закрыта позиция в шорт по STOP_LOSS, монета: {coin}, цена: {price_exit}, прибыль: {profit}, время: {date_exit}')\n",
    "                                        send_tg_message(f'Закрыта позицию в шорт STOP_LOSS по монете: {coin}, время: {date_exit}, цена: {price_exit}, прибыль: {profit}')\n",
    "\n",
    "                                        collecting_statistics(coin, side_position, date_entry, date_exit, profit, RSI_5M, RSI_1H) # сбор СТАТИСТИКИ\n",
    "\n",
    "                                        time.sleep(PAUSE_BETWEEN_GET_DATA)\n",
    "\n",
    "                                        open_position_1_2 = False    # флаг - позиция закрыта     \n",
    "                                    \n",
    "                                    elif df['close'].iloc[-1] <= price_entry / (1 + (STOP_LOSS_PROC * 3)/100):  # СРАБОТАЛ ТЭЙК\n",
    "                                        date_exit = get_time()\n",
    "                                        price_exit = df['close'].iloc[-1]\n",
    "                                        profit = ((price_entry / price_exit - 1) * 100) / 2\n",
    "                                        print('Позиция закрыта по TAKE_PROFIT')\n",
    "                                        print(f'Закрыта позиция в шорт по TAKE_PROFIT, монета: {coin}, цена: {price_exit}, прибыль: {profit}, время: {date_exit}')\n",
    "                                        send_tg_message(f'Закрыта позицию в шорт TAKE_PROFIT по монете: {coin}, время: {date_exit}, цена: {price_exit}, прибыль: {profit}')\n",
    "\n",
    "                                        collecting_statistics(coin, side_position, date_entry, date_exit, profit, RSI_5M, RSI_1H) # сбор СТАТИСТИКИ\n",
    "\n",
    "                                        time.sleep(PAUSE_BETWEEN_GET_DATA)\n",
    "\n",
    "                                        open_position_1_2 = False    # флаг - позиция закрыта\n",
    "             \n",
    "                                        \n",
    "                                    elif RSI <= ПОРОГ_RSI_ЗАКРЫТ_ШОРТА: # условие закрытия по RSI шортовой сделки\n",
    "\n",
    "                                        date_exit = get_time()\n",
    "                                        price_exit = df['close'].iloc[-1]\n",
    "                                        profit = ((price_entry / price_exit - 1) * 100) / 2\n",
    "                                        print('Позиция закрыта по RSI')\n",
    "                                        print(f'Закрыта позиция в шорт по RSI, монета: {coin}, цена: {price_exit}, прибыль: {profit}, время: {date_exit}')\n",
    "                                        send_tg_message(f'Закрыта позицию в шорт RSI по монете: {coin}, время: {date_exit}, цена: {price_exit}, прибыль: {profit}')\n",
    "\n",
    "                                        collecting_statistics(coin, side_position, date_entry, date_exit, profit, RSI_5M, RSI_1H) # сбор статистики\n",
    "\n",
    "                                        time.sleep(PAUSE_BETWEEN_GET_DATA)\n",
    "\n",
    "                                        open_position_1_2 = False    # флаг - позиция закрыта\n",
    "\n",
    "                                    else:  \n",
    "                                        # print('Позиция отерыта в ШОРТ')\n",
    "                                        open_position_1_2 = True\n",
    "                                        time.sleep(PAUSE_BETWEEN_GET_DATA)\n",
    "\n",
    "                        else:\n",
    "                            open_position = True\n",
    "                            time.sleep(PAUSE_BETWEEN_GET_DATA)\n",
    "                            # цена между стоп-лосс и первым тэйком\n",
    "\n",
    "                else:\n",
    "                    time.sleep(PAUSE_BETWEEN_GET_DATA)\n",
    "                    print(f'Позиция не открыта по RSI {coin}, время {get_time()}')          \n",
    "    \n",
    "    ############################################################################################################################################################\n",
    "        elif RSI_5M < ПОРОГ_RSI_5M_ЛОНГ:       # если RSI ниже порогового значения     \n",
    "\n",
    "            search_point = True  # включение поиска точки входа\n",
    "            \n",
    "            while search_point == True:   \n",
    "\n",
    "                try:\n",
    "                    df = get_data_search_point(coin, interval, lookback) # получаем историю свечей по ней\n",
    "\n",
    "                except BinanceAPIException as e:  # обработки ошибок загрузки данных\n",
    "                    print(e)\n",
    "                    time.sleep(60)\n",
    "                    df = get_data_search_point(coin, interval, lookback) # получаем историю свечей по ней              \n",
    "\n",
    "                if df['RSI'].iloc[-1] <= df['RSI'].iloc[-2]:   #  условие поиска        \n",
    "\n",
    "                    print(f'Поиск точки входа по монете: {coin}')\n",
    "                    time.sleep(PAUSE_BETWEEN_GET_DATA)\n",
    "\n",
    "                elif  df['RSI'].iloc[-1] > df['RSI'].iloc[-2]:  # поиск закончен - вход в позицию\n",
    "\n",
    "                      #############################################################################################################################################\n",
    "                    open_position = True\n",
    "                    side_position = 'Лонг'\n",
    "                    price_entry = df['close'].iloc[-1]\n",
    "                    date_entry = get_time()\n",
    "                    stop_loss = price_entry / (1 + (STOP_LOSS_PROC/100))\n",
    "                    print(f'Открыта позиция в лонг по монете: {coin}, цена: {price_entry}, время: {date_entry}')\n",
    "                    send_tg_message(f'Открыта позиция в лонг по монете: {coin}, цена: {price_entry}, время: {date_entry}')\n",
    "                    # отправка ордера будет сдесь\n",
    "                    time.sleep(PAUSE_BETWEEN_GET_DATA)\n",
    "                    search_point = False    # флаг поиск точки входа - отключить\n",
    "\n",
    "                    while open_position == True: # включение поиска точки выхода\n",
    "\n",
    "                        try:\n",
    "                            df = get_data_search_point(coin, interval, lookback) # получаем данные в том же таймфрейме\n",
    "                            \n",
    "\n",
    "                        except BinanceAPIException as e:              # для обработки ошибок используем библиотеку от Бинансе\n",
    "                            print(e)\n",
    "                            time.sleep(60)\n",
    "                            df = get_data_search_point(coin, interval, lookback)             \n",
    "             \n",
    "                        if df['close'].iloc[-1] < stop_loss:  # СРАБОТАЛ STOP_LOSS\n",
    "                            date_exit = get_time()\n",
    "                            price_exit = df['close'].iloc[-1]\n",
    "                            profit = -STOP_LOSS_PROC\n",
    "                            print('Позиция закрыта по STOP_LOSS')\n",
    "                            print(f'Закрыта позиция в Лонг по STOP_LOSS, монета: {coin}, цена: {price_exit}, прибыль: {profit}, время: {date_exit}')\n",
    "                            send_tg_message(f'Закрыта позицию в Лонг STOP_LOSS по монете: {coin}, время: {date_exit}, цена: {price_exit}, прибыль: {profit}')\n",
    "\n",
    "                            collecting_statistics(coin, side_position, date_entry, date_exit, profit, RSI_5M, RSI_1H) # сбор СТАТИСТИКИ\n",
    "\n",
    "                            time.sleep(PAUSE_BETWEEN_GET_DATA)\n",
    "\n",
    "                            open_position = False    # флаг - позиция закрыта\n",
    "                            \n",
    "                            \n",
    "                            \n",
    "                        elif df['close'].iloc[-1] >= price_entry * (1 + 0.8/100): # CРАБОТАЛ ПРОМЕЖУТ ТЭЙК\n",
    "                                date_exit = get_time()\n",
    "                                price_exit = df['close'].iloc[-1]\n",
    "                                profit = 0.4\n",
    "\n",
    "                                print('Позиция закрыта по промежуточному ТЭЙКУ')\n",
    "                                print(f'Закрыта позиция в лонг по промежуточному ТЭЙКУ, монета: {coin}, цена: {price_exit}, прибыль: {profit}, время: {date_exit}')\n",
    "                                send_tg_message(f'Закрыта позицию в лонг по промежуточному ТЭЙКУ, монета: {coin}, время: {date_exit}, цена: {price_exit}, прибыль: {profit}')\n",
    "\n",
    "                                collecting_statistics(coin, side_position, date_entry, date_exit, profit, RSI_5M, RSI_1H) # сбор СТАТИСТИКИ\n",
    "\n",
    "                                time.sleep(PAUSE_BETWEEN_GET_DATA)\n",
    "\n",
    "                                open_position = False    # флаг - позиция закрыта\n",
    "                                open_position_1_2 = True\n",
    "                                \n",
    "                                while open_position_1_2 == True:\n",
    "                                    \n",
    "                                    try:\n",
    "                                        df = get_data_search_point(coin, interval, lookback) # получаем данные в том же таймфрейме\n",
    "                                        RSI = calc_RSI()    # парсим RSI\n",
    "\n",
    "                                    except BinanceAPIException as e:              # для обработки ошибок используем библиотеку от Бинансе\n",
    "                                        print(e)\n",
    "                                        time.sleep(60)\n",
    "                                        df = get_data_search_point(coin, interval, lookback)                        \n",
    "                                    except:              \n",
    "                                        print('Ошибка парсинга')\n",
    "                                        browser.refresh()\n",
    "                                        time.sleep(60)\n",
    "                                        input_coin(coin)                                            # делаем монету текущей в трейдингвью\n",
    "                                        RSI = calc_RSI()                                            # получаем RSI по ней     \n",
    "\n",
    "                                    if df['close'].iloc[-1] <= stop_loss:  # СРАБОТАЛ STOP_LOSS\n",
    "                                        date_exit = get_time()\n",
    "                                        price_exit = df['close'].iloc[-1]\n",
    "                                        profit = -STOP_LOSS_PROC/2\n",
    "                                        print('Позиция закрыта по STOP_LOSS')\n",
    "                                        print(f'Закрыта позиция в Лонг по STOP_LOSS, монета: {coin}, цена: {price_exit}, прибыль: {profit}, время: {date_exit}')\n",
    "                                        send_tg_message(f'Закрыта позицию в Лонг STOP_LOSS по монете: {coin}, время: {date_exit}, цена: {price_exit}, прибыль: {profit}')\n",
    "\n",
    "                                        collecting_statistics(coin, side_position, date_entry, date_exit, profit, RSI_5M, RSI_1H) # сбор СТАТИСТИКИ\n",
    "\n",
    "                                        time.sleep(PAUSE_BETWEEN_GET_DATA)\n",
    "\n",
    "                                        open_position_1_2 = False    # флаг - позиция закрыта     \n",
    "                                    \n",
    "                                    elif df['close'].iloc[-1] >= price_entry * (1 + (STOP_LOSS_PROC * 3)/100):  # СРАБОТАЛ ТЭЙК\n",
    "                                        date_exit = get_time()\n",
    "                                        price_exit = df['close'].iloc[-1]\n",
    "                                        profit = ((price_exit / price_entry - 1) * 100) / 2\n",
    "                                        print('Позиция закрыта по TAKE_PROFIT')\n",
    "                                        print(f'Закрыта позиция в лонг по TAKE_PROFIT, монета: {coin}, цена: {price_exit}, прибыль: {profit}, время: {date_exit}')\n",
    "                                        send_tg_message(f'Закрыта позицию в лонг TAKE_PROFIT по монете: {coin}, время: {date_exit}, цена: {price_exit}, прибыль: {profit}')\n",
    "\n",
    "                                        collecting_statistics(coin, side_position, date_entry, date_exit, profit, RSI_5M, RSI_1H) # сбор СТАТИСТИКИ\n",
    "\n",
    "                                        time.sleep(PAUSE_BETWEEN_GET_DATA)\n",
    "\n",
    "                                        open_position_1_2 = False    # флаг - позиция закрыта\n",
    "             \n",
    "                                        \n",
    "                                    elif RSI >= ПОРОГ_RSI_ЗАКРЫТ_ЛОНГА: # условие закрытия по RSI шортовой сделки\n",
    "\n",
    "                                        date_exit = get_time()\n",
    "                                        price_exit = df['close'].iloc[-1]\n",
    "                                        profit = ((price_exit / price_entry - 1) * 100) / 2\n",
    "                                        print('Позиция закрыта по RSI')\n",
    "                                        print(f'Закрыта позиция в лонг по RSI, монета: {coin}, цена: {price_exit}, прибыль: {profit}, время: {date_exit}')\n",
    "                                        send_tg_message(f'Закрыта позицию в лонг RSI по монете: {coin}, время: {date_exit}, цена: {price_exit}, прибыль: {profit}')\n",
    "\n",
    "                                        collecting_statistics(coin, side_position, date_entry, date_exit, profit, RSI_5M, RSI_1H) # сбор статистики\n",
    "\n",
    "                                        time.sleep(PAUSE_BETWEEN_GET_DATA)\n",
    "\n",
    "                                        open_position_1_2 = False    # флаг - позиция закрыта\n",
    "\n",
    "                                    else:  \n",
    "                                        # print('Позиция отерыта в ШОРТ')\n",
    "                                        open_position_1_2 = True\n",
    "                                        time.sleep(PAUSE_BETWEEN_GET_DATA)\n",
    "\n",
    "                        else:\n",
    "                            open_position = True\n",
    "                            time.sleep(PAUSE_BETWEEN_GET_DATA)\n",
    "                            # цена между стоп-лосс и первым тэйком\n",
    "\n",
    "                else:\n",
    "                    print(f'Позиция не открыта по RSI {coin}, время {get_time()}')\n",
    "\n",
    "        \n",
    "\n",
    "        else:\n",
    "            # Сигнала нет, монета {coin}\n",
    "            time.sleep(5)    "
   ]
  },
  {
   "cell_type": "markdown",
   "id": "f0980f5b-1b6c-417b-931c-ea2cfa901190",
   "metadata": {
    "tags": []
   },
   "source": [
    "# Запустить бот"
   ]
  },
  {
   "cell_type": "code",
   "execution_count": 39,
   "id": "8fc331b7-256d-4127-8f5d-8f24cf415823",
   "metadata": {
    "tags": []
   },
   "outputs": [
    {
     "name": "stdout",
     "output_type": "stream",
     "text": [
      "Поиск монеты....\n"
     ]
    },
    {
     "name": "stderr",
     "output_type": "stream",
     "text": [
      " 95%|█████████████████████████████████████████████████████████████████████████████▉    | 19/20 [03:41<00:11, 11.49s/it]"
     ]
    },
    {
     "name": "stdout",
     "output_type": "stream",
     "text": [
      "Поиск точки входа по монете: BANDUSDT\n",
      "Поиск точки входа по монете: BANDUSDT\n",
      "Открыта позиция в лонг по монете: BANDUSDT, цена: 1.853, время: 2023-04-13 08:30:03\n",
      "Позиция закрыта по промежуточному ТЭЙКУ\n",
      "Закрыта позиция в лонг по промежуточному ТЭЙКУ, монета: BANDUSDT, цена: 1.868, прибыль: 0.4, время: 2023-04-13 10:21:31\n",
      "Позиция закрыта по TAKE_PROFIT\n",
      "Закрыта позиция в лонг по TAKE_PROFIT, монета: BANDUSDT, цена: 1.898, прибыль: 1.2142471667566102, время: 2023-04-13 16:14:29\n"
     ]
    },
    {
     "name": "stderr",
     "output_type": "stream",
     "text": [
      "100%|██████████████████████████████████████████████████████████████████████████████| 20/20 [7:48:46<00:00, 1406.34s/it]\n"
     ]
    },
    {
     "name": "stdout",
     "output_type": "stream",
     "text": [
      "Поиск монеты....\n"
     ]
    },
    {
     "name": "stderr",
     "output_type": "stream",
     "text": [
      "  0%|                                                                                           | 0/20 [00:00<?, ?it/s]"
     ]
    },
    {
     "name": "stdout",
     "output_type": "stream",
     "text": [
      "Поиск точки входа по монете: BATUSDT\n",
      "Поиск точки входа по монете: BATUSDT\n",
      "Поиск точки входа по монете: BATUSDT\n",
      "Поиск точки входа по монете: BATUSDT\n",
      "Поиск точки входа по монете: BATUSDT\n",
      "Поиск точки входа по монете: BATUSDT\n",
      "Поиск точки входа по монете: BATUSDT\n",
      "Поиск точки входа по монете: BATUSDT\n",
      "Поиск точки входа по монете: BATUSDT\n",
      "Поиск точки входа по монете: BATUSDT\n",
      "Поиск точки входа по монете: BATUSDT\n",
      "Поиск точки входа по монете: BATUSDT\n",
      "Поиск точки входа по монете: BATUSDT\n",
      "Поиск точки входа по монете: BATUSDT\n",
      "Поиск точки входа по монете: BATUSDT\n",
      "Поиск точки входа по монете: BATUSDT\n",
      "Поиск точки входа по монете: BATUSDT\n",
      "Поиск точки входа по монете: BATUSDT\n",
      "Поиск точки входа по монете: BATUSDT\n",
      "Поиск точки входа по монете: BATUSDT\n",
      "Поиск точки входа по монете: BATUSDT\n",
      "Поиск точки входа по монете: BATUSDT\n",
      "Поиск точки входа по монете: BATUSDT\n",
      "Поиск точки входа по монете: BATUSDT\n",
      "Поиск точки входа по монете: BATUSDT\n",
      "Поиск точки входа по монете: BATUSDT\n",
      "Поиск точки входа по монете: BATUSDT\n",
      "Открыта позиция в шорт по монете: BATUSDT, цена: 0.2797, время: 2023-04-13 16:19:39\n",
      "Позиция закрыта по промежуточному ТЭЙКУ\n",
      "Закрыта позиция в шорт по промежуточному ТЭЙКУ, монета: BATUSDT, цена: 0.2774, прибыль: 0.4, время: 2023-04-13 17:11:32\n",
      "Ошибка парсинга\n",
      "Позиция закрыта по STOP_LOSS\n",
      "Закрыта позиция в шорт по STOP_LOSS, монета: BATUSDT, цена: 0.282, прибыль: -0.4, время: 2023-04-14 07:15:15\n"
     ]
    },
    {
     "name": "stderr",
     "output_type": "stream",
     "text": [
      "100%|█████████████████████████████████████████████████████████████████████████████| 20/20 [15:04:25<00:00, 2713.25s/it]\n"
     ]
    },
    {
     "name": "stdout",
     "output_type": "stream",
     "text": [
      "Поиск монеты....\n"
     ]
    },
    {
     "name": "stderr",
     "output_type": "stream",
     "text": [
      "  0%|                                                                                           | 0/20 [00:00<?, ?it/s]"
     ]
    },
    {
     "name": "stdout",
     "output_type": "stream",
     "text": [
      "Поиск точки входа по монете: BATUSDT\n",
      "Поиск точки входа по монете: BATUSDT\n",
      "Поиск точки входа по монете: BATUSDT\n",
      "Поиск точки входа по монете: BATUSDT\n",
      "Поиск точки входа по монете: BATUSDT\n",
      "Открыта позиция в шорт по монете: BATUSDT, цена: 0.2824, время: 2023-04-14 07:20:05\n",
      "Позиция закрыта по STOP_LOSS\n",
      "Закрыта позиция в шорт по STOP_LOSS, монета: BATUSDT, цена: 0.2847, прибыль: -0.8, время: 2023-04-14 07:39:49\n"
     ]
    },
    {
     "name": "stderr",
     "output_type": "stream",
     "text": [
      "  5%|███▉                                                                           | 1/20 [20:54<6:37:18, 1254.66s/it]"
     ]
    },
    {
     "name": "stdout",
     "output_type": "stream",
     "text": [
      "Поиск точки входа по монете: APEUSDT\n",
      "Поиск точки входа по монете: APEUSDT\n",
      "Поиск точки входа по монете: APEUSDT\n",
      "Открыта позиция в шорт по монете: APEUSDT, цена: 4.515, время: 2023-04-14 07:40:40\n"
     ]
    },
    {
     "name": "stderr",
     "output_type": "stream",
     "text": [
      "  5%|███▉                                                                           | 1/20 [30:33<9:40:36, 1833.52s/it]\n"
     ]
    },
    {
     "ename": "ReadTimeout",
     "evalue": "HTTPSConnectionPool(host='api.binance.com', port=443): Read timed out. (read timeout=10)",
     "output_type": "error",
     "traceback": [
      "\u001b[1;31m---------------------------------------------------------------------------\u001b[0m",
      "\u001b[1;31mtimeout\u001b[0m                                   Traceback (most recent call last)",
      "File \u001b[1;32m~\\Desktop\\Proj\\venv\\lib\\site-packages\\urllib3\\connectionpool.py:449\u001b[0m, in \u001b[0;36mHTTPConnectionPool._make_request\u001b[1;34m(self, conn, method, url, timeout, chunked, **httplib_request_kw)\u001b[0m\n\u001b[0;32m    445\u001b[0m         \u001b[38;5;28;01mexcept\u001b[39;00m \u001b[38;5;167;01mBaseException\u001b[39;00m \u001b[38;5;28;01mas\u001b[39;00m e:\n\u001b[0;32m    446\u001b[0m             \u001b[38;5;66;03m# Remove the TypeError from the exception chain in\u001b[39;00m\n\u001b[0;32m    447\u001b[0m             \u001b[38;5;66;03m# Python 3 (including for exceptions like SystemExit).\u001b[39;00m\n\u001b[0;32m    448\u001b[0m             \u001b[38;5;66;03m# Otherwise it looks like a bug in the code.\u001b[39;00m\n\u001b[1;32m--> 449\u001b[0m             \u001b[43msix\u001b[49m\u001b[38;5;241;43m.\u001b[39;49m\u001b[43mraise_from\u001b[49m\u001b[43m(\u001b[49m\u001b[43me\u001b[49m\u001b[43m,\u001b[49m\u001b[43m \u001b[49m\u001b[38;5;28;43;01mNone\u001b[39;49;00m\u001b[43m)\u001b[49m\n\u001b[0;32m    450\u001b[0m \u001b[38;5;28;01mexcept\u001b[39;00m (SocketTimeout, BaseSSLError, SocketError) \u001b[38;5;28;01mas\u001b[39;00m e:\n",
      "File \u001b[1;32m<string>:3\u001b[0m, in \u001b[0;36mraise_from\u001b[1;34m(value, from_value)\u001b[0m\n",
      "File \u001b[1;32m~\\Desktop\\Proj\\venv\\lib\\site-packages\\urllib3\\connectionpool.py:444\u001b[0m, in \u001b[0;36mHTTPConnectionPool._make_request\u001b[1;34m(self, conn, method, url, timeout, chunked, **httplib_request_kw)\u001b[0m\n\u001b[0;32m    443\u001b[0m \u001b[38;5;28;01mtry\u001b[39;00m:\n\u001b[1;32m--> 444\u001b[0m     httplib_response \u001b[38;5;241m=\u001b[39m \u001b[43mconn\u001b[49m\u001b[38;5;241;43m.\u001b[39;49m\u001b[43mgetresponse\u001b[49m\u001b[43m(\u001b[49m\u001b[43m)\u001b[49m\n\u001b[0;32m    445\u001b[0m \u001b[38;5;28;01mexcept\u001b[39;00m \u001b[38;5;167;01mBaseException\u001b[39;00m \u001b[38;5;28;01mas\u001b[39;00m e:\n\u001b[0;32m    446\u001b[0m     \u001b[38;5;66;03m# Remove the TypeError from the exception chain in\u001b[39;00m\n\u001b[0;32m    447\u001b[0m     \u001b[38;5;66;03m# Python 3 (including for exceptions like SystemExit).\u001b[39;00m\n\u001b[0;32m    448\u001b[0m     \u001b[38;5;66;03m# Otherwise it looks like a bug in the code.\u001b[39;00m\n",
      "File \u001b[1;32m~\\AppData\\Local\\Programs\\Python\\Python39\\lib\\http\\client.py:1377\u001b[0m, in \u001b[0;36mHTTPConnection.getresponse\u001b[1;34m(self)\u001b[0m\n\u001b[0;32m   1376\u001b[0m \u001b[38;5;28;01mtry\u001b[39;00m:\n\u001b[1;32m-> 1377\u001b[0m     \u001b[43mresponse\u001b[49m\u001b[38;5;241;43m.\u001b[39;49m\u001b[43mbegin\u001b[49m\u001b[43m(\u001b[49m\u001b[43m)\u001b[49m\n\u001b[0;32m   1378\u001b[0m \u001b[38;5;28;01mexcept\u001b[39;00m \u001b[38;5;167;01mConnectionError\u001b[39;00m:\n",
      "File \u001b[1;32m~\\AppData\\Local\\Programs\\Python\\Python39\\lib\\http\\client.py:320\u001b[0m, in \u001b[0;36mHTTPResponse.begin\u001b[1;34m(self)\u001b[0m\n\u001b[0;32m    319\u001b[0m \u001b[38;5;28;01mwhile\u001b[39;00m \u001b[38;5;28;01mTrue\u001b[39;00m:\n\u001b[1;32m--> 320\u001b[0m     version, status, reason \u001b[38;5;241m=\u001b[39m \u001b[38;5;28;43mself\u001b[39;49m\u001b[38;5;241;43m.\u001b[39;49m\u001b[43m_read_status\u001b[49m\u001b[43m(\u001b[49m\u001b[43m)\u001b[49m\n\u001b[0;32m    321\u001b[0m     \u001b[38;5;28;01mif\u001b[39;00m status \u001b[38;5;241m!=\u001b[39m CONTINUE:\n",
      "File \u001b[1;32m~\\AppData\\Local\\Programs\\Python\\Python39\\lib\\http\\client.py:281\u001b[0m, in \u001b[0;36mHTTPResponse._read_status\u001b[1;34m(self)\u001b[0m\n\u001b[0;32m    280\u001b[0m \u001b[38;5;28;01mdef\u001b[39;00m \u001b[38;5;21m_read_status\u001b[39m(\u001b[38;5;28mself\u001b[39m):\n\u001b[1;32m--> 281\u001b[0m     line \u001b[38;5;241m=\u001b[39m \u001b[38;5;28mstr\u001b[39m(\u001b[38;5;28;43mself\u001b[39;49m\u001b[38;5;241;43m.\u001b[39;49m\u001b[43mfp\u001b[49m\u001b[38;5;241;43m.\u001b[39;49m\u001b[43mreadline\u001b[49m\u001b[43m(\u001b[49m\u001b[43m_MAXLINE\u001b[49m\u001b[43m \u001b[49m\u001b[38;5;241;43m+\u001b[39;49m\u001b[43m \u001b[49m\u001b[38;5;241;43m1\u001b[39;49m\u001b[43m)\u001b[49m, \u001b[38;5;124m\"\u001b[39m\u001b[38;5;124miso-8859-1\u001b[39m\u001b[38;5;124m\"\u001b[39m)\n\u001b[0;32m    282\u001b[0m     \u001b[38;5;28;01mif\u001b[39;00m \u001b[38;5;28mlen\u001b[39m(line) \u001b[38;5;241m>\u001b[39m _MAXLINE:\n",
      "File \u001b[1;32m~\\AppData\\Local\\Programs\\Python\\Python39\\lib\\socket.py:704\u001b[0m, in \u001b[0;36mSocketIO.readinto\u001b[1;34m(self, b)\u001b[0m\n\u001b[0;32m    703\u001b[0m \u001b[38;5;28;01mtry\u001b[39;00m:\n\u001b[1;32m--> 704\u001b[0m     \u001b[38;5;28;01mreturn\u001b[39;00m \u001b[38;5;28;43mself\u001b[39;49m\u001b[38;5;241;43m.\u001b[39;49m\u001b[43m_sock\u001b[49m\u001b[38;5;241;43m.\u001b[39;49m\u001b[43mrecv_into\u001b[49m\u001b[43m(\u001b[49m\u001b[43mb\u001b[49m\u001b[43m)\u001b[49m\n\u001b[0;32m    705\u001b[0m \u001b[38;5;28;01mexcept\u001b[39;00m timeout:\n",
      "File \u001b[1;32m~\\AppData\\Local\\Programs\\Python\\Python39\\lib\\ssl.py:1241\u001b[0m, in \u001b[0;36mSSLSocket.recv_into\u001b[1;34m(self, buffer, nbytes, flags)\u001b[0m\n\u001b[0;32m   1238\u001b[0m         \u001b[38;5;28;01mraise\u001b[39;00m \u001b[38;5;167;01mValueError\u001b[39;00m(\n\u001b[0;32m   1239\u001b[0m           \u001b[38;5;124m\"\u001b[39m\u001b[38;5;124mnon-zero flags not allowed in calls to recv_into() on \u001b[39m\u001b[38;5;132;01m%s\u001b[39;00m\u001b[38;5;124m\"\u001b[39m \u001b[38;5;241m%\u001b[39m\n\u001b[0;32m   1240\u001b[0m           \u001b[38;5;28mself\u001b[39m\u001b[38;5;241m.\u001b[39m\u001b[38;5;18m__class__\u001b[39m)\n\u001b[1;32m-> 1241\u001b[0m     \u001b[38;5;28;01mreturn\u001b[39;00m \u001b[38;5;28;43mself\u001b[39;49m\u001b[38;5;241;43m.\u001b[39;49m\u001b[43mread\u001b[49m\u001b[43m(\u001b[49m\u001b[43mnbytes\u001b[49m\u001b[43m,\u001b[49m\u001b[43m \u001b[49m\u001b[43mbuffer\u001b[49m\u001b[43m)\u001b[49m\n\u001b[0;32m   1242\u001b[0m \u001b[38;5;28;01melse\u001b[39;00m:\n",
      "File \u001b[1;32m~\\AppData\\Local\\Programs\\Python\\Python39\\lib\\ssl.py:1099\u001b[0m, in \u001b[0;36mSSLSocket.read\u001b[1;34m(self, len, buffer)\u001b[0m\n\u001b[0;32m   1098\u001b[0m \u001b[38;5;28;01mif\u001b[39;00m buffer \u001b[38;5;129;01mis\u001b[39;00m \u001b[38;5;129;01mnot\u001b[39;00m \u001b[38;5;28;01mNone\u001b[39;00m:\n\u001b[1;32m-> 1099\u001b[0m     \u001b[38;5;28;01mreturn\u001b[39;00m \u001b[38;5;28;43mself\u001b[39;49m\u001b[38;5;241;43m.\u001b[39;49m\u001b[43m_sslobj\u001b[49m\u001b[38;5;241;43m.\u001b[39;49m\u001b[43mread\u001b[49m\u001b[43m(\u001b[49m\u001b[38;5;28;43mlen\u001b[39;49m\u001b[43m,\u001b[49m\u001b[43m \u001b[49m\u001b[43mbuffer\u001b[49m\u001b[43m)\u001b[49m\n\u001b[0;32m   1100\u001b[0m \u001b[38;5;28;01melse\u001b[39;00m:\n",
      "\u001b[1;31mtimeout\u001b[0m: The read operation timed out",
      "\nDuring handling of the above exception, another exception occurred:\n",
      "\u001b[1;31mReadTimeoutError\u001b[0m                          Traceback (most recent call last)",
      "File \u001b[1;32m~\\Desktop\\Proj\\venv\\lib\\site-packages\\requests\\adapters.py:489\u001b[0m, in \u001b[0;36mHTTPAdapter.send\u001b[1;34m(self, request, stream, timeout, verify, cert, proxies)\u001b[0m\n\u001b[0;32m    488\u001b[0m \u001b[38;5;28;01mif\u001b[39;00m \u001b[38;5;129;01mnot\u001b[39;00m chunked:\n\u001b[1;32m--> 489\u001b[0m     resp \u001b[38;5;241m=\u001b[39m \u001b[43mconn\u001b[49m\u001b[38;5;241;43m.\u001b[39;49m\u001b[43murlopen\u001b[49m\u001b[43m(\u001b[49m\n\u001b[0;32m    490\u001b[0m \u001b[43m        \u001b[49m\u001b[43mmethod\u001b[49m\u001b[38;5;241;43m=\u001b[39;49m\u001b[43mrequest\u001b[49m\u001b[38;5;241;43m.\u001b[39;49m\u001b[43mmethod\u001b[49m\u001b[43m,\u001b[49m\n\u001b[0;32m    491\u001b[0m \u001b[43m        \u001b[49m\u001b[43murl\u001b[49m\u001b[38;5;241;43m=\u001b[39;49m\u001b[43murl\u001b[49m\u001b[43m,\u001b[49m\n\u001b[0;32m    492\u001b[0m \u001b[43m        \u001b[49m\u001b[43mbody\u001b[49m\u001b[38;5;241;43m=\u001b[39;49m\u001b[43mrequest\u001b[49m\u001b[38;5;241;43m.\u001b[39;49m\u001b[43mbody\u001b[49m\u001b[43m,\u001b[49m\n\u001b[0;32m    493\u001b[0m \u001b[43m        \u001b[49m\u001b[43mheaders\u001b[49m\u001b[38;5;241;43m=\u001b[39;49m\u001b[43mrequest\u001b[49m\u001b[38;5;241;43m.\u001b[39;49m\u001b[43mheaders\u001b[49m\u001b[43m,\u001b[49m\n\u001b[0;32m    494\u001b[0m \u001b[43m        \u001b[49m\u001b[43mredirect\u001b[49m\u001b[38;5;241;43m=\u001b[39;49m\u001b[38;5;28;43;01mFalse\u001b[39;49;00m\u001b[43m,\u001b[49m\n\u001b[0;32m    495\u001b[0m \u001b[43m        \u001b[49m\u001b[43massert_same_host\u001b[49m\u001b[38;5;241;43m=\u001b[39;49m\u001b[38;5;28;43;01mFalse\u001b[39;49;00m\u001b[43m,\u001b[49m\n\u001b[0;32m    496\u001b[0m \u001b[43m        \u001b[49m\u001b[43mpreload_content\u001b[49m\u001b[38;5;241;43m=\u001b[39;49m\u001b[38;5;28;43;01mFalse\u001b[39;49;00m\u001b[43m,\u001b[49m\n\u001b[0;32m    497\u001b[0m \u001b[43m        \u001b[49m\u001b[43mdecode_content\u001b[49m\u001b[38;5;241;43m=\u001b[39;49m\u001b[38;5;28;43;01mFalse\u001b[39;49;00m\u001b[43m,\u001b[49m\n\u001b[0;32m    498\u001b[0m \u001b[43m        \u001b[49m\u001b[43mretries\u001b[49m\u001b[38;5;241;43m=\u001b[39;49m\u001b[38;5;28;43mself\u001b[39;49m\u001b[38;5;241;43m.\u001b[39;49m\u001b[43mmax_retries\u001b[49m\u001b[43m,\u001b[49m\n\u001b[0;32m    499\u001b[0m \u001b[43m        \u001b[49m\u001b[43mtimeout\u001b[49m\u001b[38;5;241;43m=\u001b[39;49m\u001b[43mtimeout\u001b[49m\u001b[43m,\u001b[49m\n\u001b[0;32m    500\u001b[0m \u001b[43m    \u001b[49m\u001b[43m)\u001b[49m\n\u001b[0;32m    502\u001b[0m \u001b[38;5;66;03m# Send the request.\u001b[39;00m\n\u001b[0;32m    503\u001b[0m \u001b[38;5;28;01melse\u001b[39;00m:\n",
      "File \u001b[1;32m~\\Desktop\\Proj\\venv\\lib\\site-packages\\urllib3\\connectionpool.py:787\u001b[0m, in \u001b[0;36mHTTPConnectionPool.urlopen\u001b[1;34m(self, method, url, body, headers, retries, redirect, assert_same_host, timeout, pool_timeout, release_conn, chunked, body_pos, **response_kw)\u001b[0m\n\u001b[0;32m    785\u001b[0m     e \u001b[38;5;241m=\u001b[39m ProtocolError(\u001b[38;5;124m\"\u001b[39m\u001b[38;5;124mConnection aborted.\u001b[39m\u001b[38;5;124m\"\u001b[39m, e)\n\u001b[1;32m--> 787\u001b[0m retries \u001b[38;5;241m=\u001b[39m \u001b[43mretries\u001b[49m\u001b[38;5;241;43m.\u001b[39;49m\u001b[43mincrement\u001b[49m\u001b[43m(\u001b[49m\n\u001b[0;32m    788\u001b[0m \u001b[43m    \u001b[49m\u001b[43mmethod\u001b[49m\u001b[43m,\u001b[49m\u001b[43m \u001b[49m\u001b[43murl\u001b[49m\u001b[43m,\u001b[49m\u001b[43m \u001b[49m\u001b[43merror\u001b[49m\u001b[38;5;241;43m=\u001b[39;49m\u001b[43me\u001b[49m\u001b[43m,\u001b[49m\u001b[43m \u001b[49m\u001b[43m_pool\u001b[49m\u001b[38;5;241;43m=\u001b[39;49m\u001b[38;5;28;43mself\u001b[39;49m\u001b[43m,\u001b[49m\u001b[43m \u001b[49m\u001b[43m_stacktrace\u001b[49m\u001b[38;5;241;43m=\u001b[39;49m\u001b[43msys\u001b[49m\u001b[38;5;241;43m.\u001b[39;49m\u001b[43mexc_info\u001b[49m\u001b[43m(\u001b[49m\u001b[43m)\u001b[49m\u001b[43m[\u001b[49m\u001b[38;5;241;43m2\u001b[39;49m\u001b[43m]\u001b[49m\n\u001b[0;32m    789\u001b[0m \u001b[43m\u001b[49m\u001b[43m)\u001b[49m\n\u001b[0;32m    790\u001b[0m retries\u001b[38;5;241m.\u001b[39msleep()\n",
      "File \u001b[1;32m~\\Desktop\\Proj\\venv\\lib\\site-packages\\urllib3\\util\\retry.py:550\u001b[0m, in \u001b[0;36mRetry.increment\u001b[1;34m(self, method, url, response, error, _pool, _stacktrace)\u001b[0m\n\u001b[0;32m    549\u001b[0m \u001b[38;5;28;01mif\u001b[39;00m read \u001b[38;5;129;01mis\u001b[39;00m \u001b[38;5;28;01mFalse\u001b[39;00m \u001b[38;5;129;01mor\u001b[39;00m \u001b[38;5;129;01mnot\u001b[39;00m \u001b[38;5;28mself\u001b[39m\u001b[38;5;241m.\u001b[39m_is_method_retryable(method):\n\u001b[1;32m--> 550\u001b[0m     \u001b[38;5;28;01mraise\u001b[39;00m \u001b[43msix\u001b[49m\u001b[38;5;241;43m.\u001b[39;49m\u001b[43mreraise\u001b[49m\u001b[43m(\u001b[49m\u001b[38;5;28;43mtype\u001b[39;49m\u001b[43m(\u001b[49m\u001b[43merror\u001b[49m\u001b[43m)\u001b[49m\u001b[43m,\u001b[49m\u001b[43m \u001b[49m\u001b[43merror\u001b[49m\u001b[43m,\u001b[49m\u001b[43m \u001b[49m\u001b[43m_stacktrace\u001b[49m\u001b[43m)\u001b[49m\n\u001b[0;32m    551\u001b[0m \u001b[38;5;28;01melif\u001b[39;00m read \u001b[38;5;129;01mis\u001b[39;00m \u001b[38;5;129;01mnot\u001b[39;00m \u001b[38;5;28;01mNone\u001b[39;00m:\n",
      "File \u001b[1;32m~\\Desktop\\Proj\\venv\\lib\\site-packages\\urllib3\\packages\\six.py:770\u001b[0m, in \u001b[0;36mreraise\u001b[1;34m(tp, value, tb)\u001b[0m\n\u001b[0;32m    769\u001b[0m         \u001b[38;5;28;01mraise\u001b[39;00m value\u001b[38;5;241m.\u001b[39mwith_traceback(tb)\n\u001b[1;32m--> 770\u001b[0m     \u001b[38;5;28;01mraise\u001b[39;00m value\n\u001b[0;32m    771\u001b[0m \u001b[38;5;28;01mfinally\u001b[39;00m:\n",
      "File \u001b[1;32m~\\Desktop\\Proj\\venv\\lib\\site-packages\\urllib3\\connectionpool.py:703\u001b[0m, in \u001b[0;36mHTTPConnectionPool.urlopen\u001b[1;34m(self, method, url, body, headers, retries, redirect, assert_same_host, timeout, pool_timeout, release_conn, chunked, body_pos, **response_kw)\u001b[0m\n\u001b[0;32m    702\u001b[0m \u001b[38;5;66;03m# Make the request on the httplib connection object.\u001b[39;00m\n\u001b[1;32m--> 703\u001b[0m httplib_response \u001b[38;5;241m=\u001b[39m \u001b[38;5;28;43mself\u001b[39;49m\u001b[38;5;241;43m.\u001b[39;49m\u001b[43m_make_request\u001b[49m\u001b[43m(\u001b[49m\n\u001b[0;32m    704\u001b[0m \u001b[43m    \u001b[49m\u001b[43mconn\u001b[49m\u001b[43m,\u001b[49m\n\u001b[0;32m    705\u001b[0m \u001b[43m    \u001b[49m\u001b[43mmethod\u001b[49m\u001b[43m,\u001b[49m\n\u001b[0;32m    706\u001b[0m \u001b[43m    \u001b[49m\u001b[43murl\u001b[49m\u001b[43m,\u001b[49m\n\u001b[0;32m    707\u001b[0m \u001b[43m    \u001b[49m\u001b[43mtimeout\u001b[49m\u001b[38;5;241;43m=\u001b[39;49m\u001b[43mtimeout_obj\u001b[49m\u001b[43m,\u001b[49m\n\u001b[0;32m    708\u001b[0m \u001b[43m    \u001b[49m\u001b[43mbody\u001b[49m\u001b[38;5;241;43m=\u001b[39;49m\u001b[43mbody\u001b[49m\u001b[43m,\u001b[49m\n\u001b[0;32m    709\u001b[0m \u001b[43m    \u001b[49m\u001b[43mheaders\u001b[49m\u001b[38;5;241;43m=\u001b[39;49m\u001b[43mheaders\u001b[49m\u001b[43m,\u001b[49m\n\u001b[0;32m    710\u001b[0m \u001b[43m    \u001b[49m\u001b[43mchunked\u001b[49m\u001b[38;5;241;43m=\u001b[39;49m\u001b[43mchunked\u001b[49m\u001b[43m,\u001b[49m\n\u001b[0;32m    711\u001b[0m \u001b[43m\u001b[49m\u001b[43m)\u001b[49m\n\u001b[0;32m    713\u001b[0m \u001b[38;5;66;03m# If we're going to release the connection in ``finally:``, then\u001b[39;00m\n\u001b[0;32m    714\u001b[0m \u001b[38;5;66;03m# the response doesn't need to know about the connection. Otherwise\u001b[39;00m\n\u001b[0;32m    715\u001b[0m \u001b[38;5;66;03m# it will also try to release it and we'll have a double-release\u001b[39;00m\n\u001b[0;32m    716\u001b[0m \u001b[38;5;66;03m# mess.\u001b[39;00m\n",
      "File \u001b[1;32m~\\Desktop\\Proj\\venv\\lib\\site-packages\\urllib3\\connectionpool.py:451\u001b[0m, in \u001b[0;36mHTTPConnectionPool._make_request\u001b[1;34m(self, conn, method, url, timeout, chunked, **httplib_request_kw)\u001b[0m\n\u001b[0;32m    450\u001b[0m \u001b[38;5;28;01mexcept\u001b[39;00m (SocketTimeout, BaseSSLError, SocketError) \u001b[38;5;28;01mas\u001b[39;00m e:\n\u001b[1;32m--> 451\u001b[0m     \u001b[38;5;28;43mself\u001b[39;49m\u001b[38;5;241;43m.\u001b[39;49m\u001b[43m_raise_timeout\u001b[49m\u001b[43m(\u001b[49m\u001b[43merr\u001b[49m\u001b[38;5;241;43m=\u001b[39;49m\u001b[43me\u001b[49m\u001b[43m,\u001b[49m\u001b[43m \u001b[49m\u001b[43murl\u001b[49m\u001b[38;5;241;43m=\u001b[39;49m\u001b[43murl\u001b[49m\u001b[43m,\u001b[49m\u001b[43m \u001b[49m\u001b[43mtimeout_value\u001b[49m\u001b[38;5;241;43m=\u001b[39;49m\u001b[43mread_timeout\u001b[49m\u001b[43m)\u001b[49m\n\u001b[0;32m    452\u001b[0m     \u001b[38;5;28;01mraise\u001b[39;00m\n",
      "File \u001b[1;32m~\\Desktop\\Proj\\venv\\lib\\site-packages\\urllib3\\connectionpool.py:340\u001b[0m, in \u001b[0;36mHTTPConnectionPool._raise_timeout\u001b[1;34m(self, err, url, timeout_value)\u001b[0m\n\u001b[0;32m    339\u001b[0m \u001b[38;5;28;01mif\u001b[39;00m \u001b[38;5;28misinstance\u001b[39m(err, SocketTimeout):\n\u001b[1;32m--> 340\u001b[0m     \u001b[38;5;28;01mraise\u001b[39;00m ReadTimeoutError(\n\u001b[0;32m    341\u001b[0m         \u001b[38;5;28mself\u001b[39m, url, \u001b[38;5;124m\"\u001b[39m\u001b[38;5;124mRead timed out. (read timeout=\u001b[39m\u001b[38;5;132;01m%s\u001b[39;00m\u001b[38;5;124m)\u001b[39m\u001b[38;5;124m\"\u001b[39m \u001b[38;5;241m%\u001b[39m timeout_value\n\u001b[0;32m    342\u001b[0m     )\n\u001b[0;32m    344\u001b[0m \u001b[38;5;66;03m# See the above comment about EAGAIN in Python 3. In Python 2 we have\u001b[39;00m\n\u001b[0;32m    345\u001b[0m \u001b[38;5;66;03m# to specifically catch it and throw the timeout error\u001b[39;00m\n",
      "\u001b[1;31mReadTimeoutError\u001b[0m: HTTPSConnectionPool(host='api.binance.com', port=443): Read timed out. (read timeout=10)",
      "\nDuring handling of the above exception, another exception occurred:\n",
      "\u001b[1;31mReadTimeout\u001b[0m                               Traceback (most recent call last)",
      "Cell \u001b[1;32mIn[39], line 2\u001b[0m\n\u001b[0;32m      1\u001b[0m \u001b[38;5;28;01mwhile\u001b[39;00m \u001b[38;5;28;01mTrue\u001b[39;00m:\n\u001b[1;32m----> 2\u001b[0m     \u001b[43mbot\u001b[49m\u001b[43m(\u001b[49m\u001b[43m)\u001b[49m\n",
      "Cell \u001b[1;32mIn[38], line 64\u001b[0m, in \u001b[0;36mbot\u001b[1;34m(interval, interval_old_tm, lookback, open_position, search_point)\u001b[0m\n\u001b[0;32m     61\u001b[0m \u001b[38;5;28;01mwhile\u001b[39;00m open_position \u001b[38;5;241m==\u001b[39m \u001b[38;5;28;01mTrue\u001b[39;00m: \u001b[38;5;66;03m# включение поиска точки выхода\u001b[39;00m\n\u001b[0;32m     63\u001b[0m     \u001b[38;5;28;01mtry\u001b[39;00m:\n\u001b[1;32m---> 64\u001b[0m         df \u001b[38;5;241m=\u001b[39m \u001b[43mget_data_search_point\u001b[49m\u001b[43m(\u001b[49m\u001b[43mcoin\u001b[49m\u001b[43m,\u001b[49m\u001b[43m \u001b[49m\u001b[43minterval\u001b[49m\u001b[43m,\u001b[49m\u001b[43m \u001b[49m\u001b[43mlookback\u001b[49m\u001b[43m)\u001b[49m \u001b[38;5;66;03m# получаем данные в том же таймфрейме\u001b[39;00m\n\u001b[0;32m     67\u001b[0m     \u001b[38;5;28;01mexcept\u001b[39;00m BinanceAPIException \u001b[38;5;28;01mas\u001b[39;00m e:              \u001b[38;5;66;03m# для обработки ошибок используем библиотеку от Бинансе\u001b[39;00m\n\u001b[0;32m     68\u001b[0m         \u001b[38;5;28mprint\u001b[39m(e)\n",
      "Cell \u001b[1;32mIn[8], line 2\u001b[0m, in \u001b[0;36mget_data_search_point\u001b[1;34m(symbol, interval, lookback)\u001b[0m\n\u001b[0;32m      1\u001b[0m \u001b[38;5;28;01mdef\u001b[39;00m \u001b[38;5;21mget_data_search_point\u001b[39m(symbol, interval, lookback):\n\u001b[1;32m----> 2\u001b[0m     klines \u001b[38;5;241m=\u001b[39m pd\u001b[38;5;241m.\u001b[39mDataFrame(\u001b[43mclient\u001b[49m\u001b[38;5;241;43m.\u001b[39;49m\u001b[43mget_historical_klines\u001b[49m\u001b[43m(\u001b[49m\u001b[43msymbol\u001b[49m\u001b[43m,\u001b[49m\u001b[43m \u001b[49m\u001b[43minterval\u001b[49m\u001b[43m,\u001b[49m\u001b[43m \u001b[49m\u001b[43mlookback\u001b[49m\u001b[43m \u001b[49m\u001b[38;5;241;43m+\u001b[39;49m\u001b[43m \u001b[49m\u001b[38;5;124;43m'\u001b[39;49m\u001b[38;5;124;43mmin ago UTC\u001b[39;49m\u001b[38;5;124;43m'\u001b[39;49m\u001b[43m,\u001b[49m\u001b[43m \u001b[49m\u001b[43mlimit\u001b[49m\u001b[38;5;241;43m=\u001b[39;49m\u001b[38;5;241;43m1000\u001b[39;49m\u001b[43m)\u001b[49m)\n\u001b[0;32m      3\u001b[0m     klines\u001b[38;5;241m.\u001b[39mcolumns\u001b[38;5;241m=\u001b[39m[\u001b[38;5;124m'\u001b[39m\u001b[38;5;124mopen_time\u001b[39m\u001b[38;5;124m'\u001b[39m, \u001b[38;5;124m'\u001b[39m\u001b[38;5;124mopen\u001b[39m\u001b[38;5;124m'\u001b[39m, \u001b[38;5;124m'\u001b[39m\u001b[38;5;124mhigh\u001b[39m\u001b[38;5;124m'\u001b[39m, \u001b[38;5;124m'\u001b[39m\u001b[38;5;124mlow\u001b[39m\u001b[38;5;124m'\u001b[39m, \u001b[38;5;124m'\u001b[39m\u001b[38;5;124mclose\u001b[39m\u001b[38;5;124m'\u001b[39m, \u001b[38;5;124m'\u001b[39m\u001b[38;5;124mvolume\u001b[39m\u001b[38;5;124m'\u001b[39m, \u001b[38;5;124m'\u001b[39m\u001b[38;5;124mKline_close_time\u001b[39m\u001b[38;5;124m'\u001b[39m, \u001b[38;5;124m'\u001b[39m\u001b[38;5;124mQuote_asset_volume\u001b[39m\u001b[38;5;124m'\u001b[39m,\n\u001b[0;32m      4\u001b[0m                \u001b[38;5;124m'\u001b[39m\u001b[38;5;124mNumber_of_trades\u001b[39m\u001b[38;5;124m'\u001b[39m, \u001b[38;5;124m'\u001b[39m\u001b[38;5;124mTaker_buy_base_asset_volume\u001b[39m\u001b[38;5;124m'\u001b[39m, \u001b[38;5;124m'\u001b[39m\u001b[38;5;124mTaker_buy_quote_asset_volume\u001b[39m\u001b[38;5;124m'\u001b[39m, \u001b[38;5;124m'\u001b[39m\u001b[38;5;124mignore\u001b[39m\u001b[38;5;124m'\u001b[39m]\n\u001b[0;32m      5\u001b[0m     klines \u001b[38;5;241m=\u001b[39m klines\u001b[38;5;241m.\u001b[39miloc[:, :\u001b[38;5;241m6\u001b[39m]\n",
      "File \u001b[1;32m~\\Desktop\\Proj\\venv\\lib\\site-packages\\binance\\client.py:984\u001b[0m, in \u001b[0;36mClient.get_historical_klines\u001b[1;34m(self, symbol, interval, start_str, end_str, limit, klines_type)\u001b[0m\n\u001b[0;32m    964\u001b[0m \u001b[38;5;28;01mdef\u001b[39;00m \u001b[38;5;21mget_historical_klines\u001b[39m(\u001b[38;5;28mself\u001b[39m, symbol, interval, start_str\u001b[38;5;241m=\u001b[39m\u001b[38;5;28;01mNone\u001b[39;00m, end_str\u001b[38;5;241m=\u001b[39m\u001b[38;5;28;01mNone\u001b[39;00m, limit\u001b[38;5;241m=\u001b[39m\u001b[38;5;241m1000\u001b[39m,\n\u001b[0;32m    965\u001b[0m                           klines_type: HistoricalKlinesType \u001b[38;5;241m=\u001b[39m HistoricalKlinesType\u001b[38;5;241m.\u001b[39mSPOT):\n\u001b[0;32m    966\u001b[0m \u001b[38;5;250m    \u001b[39m\u001b[38;5;124;03m\"\"\"Get Historical Klines from Binance\u001b[39;00m\n\u001b[0;32m    967\u001b[0m \n\u001b[0;32m    968\u001b[0m \u001b[38;5;124;03m    :param symbol: Name of symbol pair e.g. BNBBTC\u001b[39;00m\n\u001b[1;32m   (...)\u001b[0m\n\u001b[0;32m    982\u001b[0m \n\u001b[0;32m    983\u001b[0m \u001b[38;5;124;03m    \"\"\"\u001b[39;00m\n\u001b[1;32m--> 984\u001b[0m     \u001b[38;5;28;01mreturn\u001b[39;00m \u001b[38;5;28;43mself\u001b[39;49m\u001b[38;5;241;43m.\u001b[39;49m\u001b[43m_historical_klines\u001b[49m\u001b[43m(\u001b[49m\n\u001b[0;32m    985\u001b[0m \u001b[43m        \u001b[49m\u001b[43msymbol\u001b[49m\u001b[43m,\u001b[49m\u001b[43m \u001b[49m\u001b[43minterval\u001b[49m\u001b[43m,\u001b[49m\u001b[43m \u001b[49m\u001b[43mstart_str\u001b[49m\u001b[38;5;241;43m=\u001b[39;49m\u001b[43mstart_str\u001b[49m\u001b[43m,\u001b[49m\u001b[43m \u001b[49m\u001b[43mend_str\u001b[49m\u001b[38;5;241;43m=\u001b[39;49m\u001b[43mend_str\u001b[49m\u001b[43m,\u001b[49m\u001b[43m \u001b[49m\u001b[43mlimit\u001b[49m\u001b[38;5;241;43m=\u001b[39;49m\u001b[43mlimit\u001b[49m\u001b[43m,\u001b[49m\u001b[43m \u001b[49m\u001b[43mklines_type\u001b[49m\u001b[38;5;241;43m=\u001b[39;49m\u001b[43mklines_type\u001b[49m\n\u001b[0;32m    986\u001b[0m \u001b[43m    \u001b[49m\u001b[43m)\u001b[49m\n",
      "File \u001b[1;32m~\\Desktop\\Proj\\venv\\lib\\site-packages\\binance\\client.py:1023\u001b[0m, in \u001b[0;36mClient._historical_klines\u001b[1;34m(self, symbol, interval, start_str, end_str, limit, klines_type)\u001b[0m\n\u001b[0;32m   1021\u001b[0m \u001b[38;5;66;03m# establish first available start timestamp\u001b[39;00m\n\u001b[0;32m   1022\u001b[0m \u001b[38;5;28;01mif\u001b[39;00m start_ts \u001b[38;5;129;01mis\u001b[39;00m \u001b[38;5;129;01mnot\u001b[39;00m \u001b[38;5;28;01mNone\u001b[39;00m:\n\u001b[1;32m-> 1023\u001b[0m     first_valid_ts \u001b[38;5;241m=\u001b[39m \u001b[38;5;28;43mself\u001b[39;49m\u001b[38;5;241;43m.\u001b[39;49m\u001b[43m_get_earliest_valid_timestamp\u001b[49m\u001b[43m(\u001b[49m\u001b[43msymbol\u001b[49m\u001b[43m,\u001b[49m\u001b[43m \u001b[49m\u001b[43minterval\u001b[49m\u001b[43m,\u001b[49m\u001b[43m \u001b[49m\u001b[43mklines_type\u001b[49m\u001b[43m)\u001b[49m\n\u001b[0;32m   1024\u001b[0m     start_ts \u001b[38;5;241m=\u001b[39m \u001b[38;5;28mmax\u001b[39m(start_ts, first_valid_ts)\n\u001b[0;32m   1026\u001b[0m \u001b[38;5;66;03m# if an end time was passed convert it\u001b[39;00m\n",
      "File \u001b[1;32m~\\Desktop\\Proj\\venv\\lib\\site-packages\\binance\\client.py:954\u001b[0m, in \u001b[0;36mClient._get_earliest_valid_timestamp\u001b[1;34m(self, symbol, interval, klines_type)\u001b[0m\n\u001b[0;32m    941\u001b[0m \u001b[38;5;28;01mdef\u001b[39;00m \u001b[38;5;21m_get_earliest_valid_timestamp\u001b[39m(\u001b[38;5;28mself\u001b[39m, symbol, interval, klines_type: HistoricalKlinesType \u001b[38;5;241m=\u001b[39m HistoricalKlinesType\u001b[38;5;241m.\u001b[39mSPOT):\n\u001b[0;32m    942\u001b[0m \u001b[38;5;250m    \u001b[39m\u001b[38;5;124;03m\"\"\"Get the earliest valid open timestamp from Binance\u001b[39;00m\n\u001b[0;32m    943\u001b[0m \n\u001b[0;32m    944\u001b[0m \u001b[38;5;124;03m    :param symbol: Name of symbol pair e.g. BNBBTC\u001b[39;00m\n\u001b[1;32m   (...)\u001b[0m\n\u001b[0;32m    952\u001b[0m \n\u001b[0;32m    953\u001b[0m \u001b[38;5;124;03m    \"\"\"\u001b[39;00m\n\u001b[1;32m--> 954\u001b[0m     kline \u001b[38;5;241m=\u001b[39m \u001b[38;5;28;43mself\u001b[39;49m\u001b[38;5;241;43m.\u001b[39;49m\u001b[43m_klines\u001b[49m\u001b[43m(\u001b[49m\n\u001b[0;32m    955\u001b[0m \u001b[43m        \u001b[49m\u001b[43mklines_type\u001b[49m\u001b[38;5;241;43m=\u001b[39;49m\u001b[43mklines_type\u001b[49m\u001b[43m,\u001b[49m\n\u001b[0;32m    956\u001b[0m \u001b[43m        \u001b[49m\u001b[43msymbol\u001b[49m\u001b[38;5;241;43m=\u001b[39;49m\u001b[43msymbol\u001b[49m\u001b[43m,\u001b[49m\n\u001b[0;32m    957\u001b[0m \u001b[43m        \u001b[49m\u001b[43minterval\u001b[49m\u001b[38;5;241;43m=\u001b[39;49m\u001b[43minterval\u001b[49m\u001b[43m,\u001b[49m\n\u001b[0;32m    958\u001b[0m \u001b[43m        \u001b[49m\u001b[43mlimit\u001b[49m\u001b[38;5;241;43m=\u001b[39;49m\u001b[38;5;241;43m1\u001b[39;49m\u001b[43m,\u001b[49m\n\u001b[0;32m    959\u001b[0m \u001b[43m        \u001b[49m\u001b[43mstartTime\u001b[49m\u001b[38;5;241;43m=\u001b[39;49m\u001b[38;5;241;43m0\u001b[39;49m\u001b[43m,\u001b[49m\n\u001b[0;32m    960\u001b[0m \u001b[43m        \u001b[49m\u001b[43mendTime\u001b[49m\u001b[38;5;241;43m=\u001b[39;49m\u001b[38;5;28;43mint\u001b[39;49m\u001b[43m(\u001b[49m\u001b[43mtime\u001b[49m\u001b[38;5;241;43m.\u001b[39;49m\u001b[43mtime\u001b[49m\u001b[43m(\u001b[49m\u001b[43m)\u001b[49m\u001b[43m \u001b[49m\u001b[38;5;241;43m*\u001b[39;49m\u001b[43m \u001b[49m\u001b[38;5;241;43m1000\u001b[39;49m\u001b[43m)\u001b[49m\n\u001b[0;32m    961\u001b[0m \u001b[43m    \u001b[49m\u001b[43m)\u001b[49m\n\u001b[0;32m    962\u001b[0m     \u001b[38;5;28;01mreturn\u001b[39;00m kline[\u001b[38;5;241m0\u001b[39m][\u001b[38;5;241m0\u001b[39m]\n",
      "File \u001b[1;32m~\\Desktop\\Proj\\venv\\lib\\site-packages\\binance\\client.py:933\u001b[0m, in \u001b[0;36mClient._klines\u001b[1;34m(self, klines_type, **params)\u001b[0m\n\u001b[0;32m    930\u001b[0m     \u001b[38;5;28;01mdel\u001b[39;00m params[\u001b[38;5;124m'\u001b[39m\u001b[38;5;124mendTime\u001b[39m\u001b[38;5;124m'\u001b[39m]\n\u001b[0;32m    932\u001b[0m \u001b[38;5;28;01mif\u001b[39;00m HistoricalKlinesType\u001b[38;5;241m.\u001b[39mSPOT \u001b[38;5;241m==\u001b[39m klines_type:\n\u001b[1;32m--> 933\u001b[0m     \u001b[38;5;28;01mreturn\u001b[39;00m \u001b[38;5;28mself\u001b[39m\u001b[38;5;241m.\u001b[39mget_klines(\u001b[38;5;241m*\u001b[39m\u001b[38;5;241m*\u001b[39mparams)\n\u001b[0;32m    934\u001b[0m \u001b[38;5;28;01melif\u001b[39;00m HistoricalKlinesType\u001b[38;5;241m.\u001b[39mFUTURES \u001b[38;5;241m==\u001b[39m klines_type:\n\u001b[0;32m    935\u001b[0m     \u001b[38;5;28;01mreturn\u001b[39;00m \u001b[38;5;28mself\u001b[39m\u001b[38;5;241m.\u001b[39mfutures_klines(\u001b[38;5;241m*\u001b[39m\u001b[38;5;241m*\u001b[39mparams)\n",
      "File \u001b[1;32m~\\Desktop\\Proj\\venv\\lib\\site-packages\\binance\\client.py:918\u001b[0m, in \u001b[0;36mClient.get_klines\u001b[1;34m(self, **params)\u001b[0m\n\u001b[0;32m    878\u001b[0m \u001b[38;5;28;01mdef\u001b[39;00m \u001b[38;5;21mget_klines\u001b[39m(\u001b[38;5;28mself\u001b[39m, \u001b[38;5;241m*\u001b[39m\u001b[38;5;241m*\u001b[39mparams) \u001b[38;5;241m-\u001b[39m\u001b[38;5;241m>\u001b[39m Dict:\n\u001b[0;32m    879\u001b[0m \u001b[38;5;250m    \u001b[39m\u001b[38;5;124;03m\"\"\"Kline/candlestick bars for a symbol. Klines are uniquely identified by their open time.\u001b[39;00m\n\u001b[0;32m    880\u001b[0m \n\u001b[0;32m    881\u001b[0m \u001b[38;5;124;03m    https://binance-docs.github.io/apidocs/spot/en/#kline-candlestick-data\u001b[39;00m\n\u001b[1;32m   (...)\u001b[0m\n\u001b[0;32m    916\u001b[0m \n\u001b[0;32m    917\u001b[0m \u001b[38;5;124;03m    \"\"\"\u001b[39;00m\n\u001b[1;32m--> 918\u001b[0m     \u001b[38;5;28;01mreturn\u001b[39;00m \u001b[38;5;28;43mself\u001b[39;49m\u001b[38;5;241;43m.\u001b[39;49m\u001b[43m_get\u001b[49m\u001b[43m(\u001b[49m\u001b[38;5;124;43m'\u001b[39;49m\u001b[38;5;124;43mklines\u001b[39;49m\u001b[38;5;124;43m'\u001b[39;49m\u001b[43m,\u001b[49m\u001b[43m \u001b[49m\u001b[43mdata\u001b[49m\u001b[38;5;241;43m=\u001b[39;49m\u001b[43mparams\u001b[49m\u001b[43m,\u001b[49m\u001b[43m \u001b[49m\u001b[43mversion\u001b[49m\u001b[38;5;241;43m=\u001b[39;49m\u001b[38;5;28;43mself\u001b[39;49m\u001b[38;5;241;43m.\u001b[39;49m\u001b[43mPRIVATE_API_VERSION\u001b[49m\u001b[43m)\u001b[49m\n",
      "File \u001b[1;32m~\\Desktop\\Proj\\venv\\lib\\site-packages\\binance\\client.py:414\u001b[0m, in \u001b[0;36mClient._get\u001b[1;34m(self, path, signed, version, **kwargs)\u001b[0m\n\u001b[0;32m    413\u001b[0m \u001b[38;5;28;01mdef\u001b[39;00m \u001b[38;5;21m_get\u001b[39m(\u001b[38;5;28mself\u001b[39m, path, signed\u001b[38;5;241m=\u001b[39m\u001b[38;5;28;01mFalse\u001b[39;00m, version\u001b[38;5;241m=\u001b[39mBaseClient\u001b[38;5;241m.\u001b[39mPUBLIC_API_VERSION, \u001b[38;5;241m*\u001b[39m\u001b[38;5;241m*\u001b[39mkwargs):\n\u001b[1;32m--> 414\u001b[0m     \u001b[38;5;28;01mreturn\u001b[39;00m \u001b[38;5;28mself\u001b[39m\u001b[38;5;241m.\u001b[39m_request_api(\u001b[38;5;124m'\u001b[39m\u001b[38;5;124mget\u001b[39m\u001b[38;5;124m'\u001b[39m, path, signed, version, \u001b[38;5;241m*\u001b[39m\u001b[38;5;241m*\u001b[39mkwargs)\n",
      "File \u001b[1;32m~\\Desktop\\Proj\\venv\\lib\\site-packages\\binance\\client.py:377\u001b[0m, in \u001b[0;36mClient._request_api\u001b[1;34m(self, method, path, signed, version, **kwargs)\u001b[0m\n\u001b[0;32m    373\u001b[0m \u001b[38;5;28;01mdef\u001b[39;00m \u001b[38;5;21m_request_api\u001b[39m(\n\u001b[0;32m    374\u001b[0m     \u001b[38;5;28mself\u001b[39m, method, path: \u001b[38;5;28mstr\u001b[39m, signed: \u001b[38;5;28mbool\u001b[39m \u001b[38;5;241m=\u001b[39m \u001b[38;5;28;01mFalse\u001b[39;00m, version\u001b[38;5;241m=\u001b[39mBaseClient\u001b[38;5;241m.\u001b[39mPUBLIC_API_VERSION, \u001b[38;5;241m*\u001b[39m\u001b[38;5;241m*\u001b[39mkwargs\n\u001b[0;32m    375\u001b[0m ):\n\u001b[0;32m    376\u001b[0m     uri \u001b[38;5;241m=\u001b[39m \u001b[38;5;28mself\u001b[39m\u001b[38;5;241m.\u001b[39m_create_api_uri(path, signed, version)\n\u001b[1;32m--> 377\u001b[0m     \u001b[38;5;28;01mreturn\u001b[39;00m \u001b[38;5;28mself\u001b[39m\u001b[38;5;241m.\u001b[39m_request(method, uri, signed, \u001b[38;5;241m*\u001b[39m\u001b[38;5;241m*\u001b[39mkwargs)\n",
      "File \u001b[1;32m~\\Desktop\\Proj\\venv\\lib\\site-packages\\binance\\client.py:357\u001b[0m, in \u001b[0;36mClient._request\u001b[1;34m(self, method, uri, signed, force_params, **kwargs)\u001b[0m\n\u001b[0;32m    353\u001b[0m \u001b[38;5;28;01mdef\u001b[39;00m \u001b[38;5;21m_request\u001b[39m(\u001b[38;5;28mself\u001b[39m, method, uri: \u001b[38;5;28mstr\u001b[39m, signed: \u001b[38;5;28mbool\u001b[39m, force_params: \u001b[38;5;28mbool\u001b[39m \u001b[38;5;241m=\u001b[39m \u001b[38;5;28;01mFalse\u001b[39;00m, \u001b[38;5;241m*\u001b[39m\u001b[38;5;241m*\u001b[39mkwargs):\n\u001b[0;32m    355\u001b[0m     kwargs \u001b[38;5;241m=\u001b[39m \u001b[38;5;28mself\u001b[39m\u001b[38;5;241m.\u001b[39m_get_request_kwargs(method, signed, force_params, \u001b[38;5;241m*\u001b[39m\u001b[38;5;241m*\u001b[39mkwargs)\n\u001b[1;32m--> 357\u001b[0m     \u001b[38;5;28mself\u001b[39m\u001b[38;5;241m.\u001b[39mresponse \u001b[38;5;241m=\u001b[39m \u001b[38;5;28mgetattr\u001b[39m(\u001b[38;5;28mself\u001b[39m\u001b[38;5;241m.\u001b[39msession, method)(uri, \u001b[38;5;241m*\u001b[39m\u001b[38;5;241m*\u001b[39mkwargs)\n\u001b[0;32m    358\u001b[0m     \u001b[38;5;28;01mreturn\u001b[39;00m \u001b[38;5;28mself\u001b[39m\u001b[38;5;241m.\u001b[39m_handle_response(\u001b[38;5;28mself\u001b[39m\u001b[38;5;241m.\u001b[39mresponse)\n",
      "File \u001b[1;32m~\\Desktop\\Proj\\venv\\lib\\site-packages\\requests\\sessions.py:600\u001b[0m, in \u001b[0;36mSession.get\u001b[1;34m(self, url, **kwargs)\u001b[0m\n\u001b[0;32m    592\u001b[0m \u001b[38;5;250m\u001b[39m\u001b[38;5;124mr\u001b[39m\u001b[38;5;124;03m\"\"\"Sends a GET request. Returns :class:`Response` object.\u001b[39;00m\n\u001b[0;32m    593\u001b[0m \n\u001b[0;32m    594\u001b[0m \u001b[38;5;124;03m:param url: URL for the new :class:`Request` object.\u001b[39;00m\n\u001b[0;32m    595\u001b[0m \u001b[38;5;124;03m:param \\*\\*kwargs: Optional arguments that ``request`` takes.\u001b[39;00m\n\u001b[0;32m    596\u001b[0m \u001b[38;5;124;03m:rtype: requests.Response\u001b[39;00m\n\u001b[0;32m    597\u001b[0m \u001b[38;5;124;03m\"\"\"\u001b[39;00m\n\u001b[0;32m    599\u001b[0m kwargs\u001b[38;5;241m.\u001b[39msetdefault(\u001b[38;5;124m\"\u001b[39m\u001b[38;5;124mallow_redirects\u001b[39m\u001b[38;5;124m\"\u001b[39m, \u001b[38;5;28;01mTrue\u001b[39;00m)\n\u001b[1;32m--> 600\u001b[0m \u001b[38;5;28;01mreturn\u001b[39;00m \u001b[38;5;28mself\u001b[39m\u001b[38;5;241m.\u001b[39mrequest(\u001b[38;5;124m\"\u001b[39m\u001b[38;5;124mGET\u001b[39m\u001b[38;5;124m\"\u001b[39m, url, \u001b[38;5;241m*\u001b[39m\u001b[38;5;241m*\u001b[39mkwargs)\n",
      "File \u001b[1;32m~\\Desktop\\Proj\\venv\\lib\\site-packages\\requests\\sessions.py:587\u001b[0m, in \u001b[0;36mSession.request\u001b[1;34m(self, method, url, params, data, headers, cookies, files, auth, timeout, allow_redirects, proxies, hooks, stream, verify, cert, json)\u001b[0m\n\u001b[0;32m    582\u001b[0m send_kwargs \u001b[38;5;241m=\u001b[39m {\n\u001b[0;32m    583\u001b[0m     \u001b[38;5;124m\"\u001b[39m\u001b[38;5;124mtimeout\u001b[39m\u001b[38;5;124m\"\u001b[39m: timeout,\n\u001b[0;32m    584\u001b[0m     \u001b[38;5;124m\"\u001b[39m\u001b[38;5;124mallow_redirects\u001b[39m\u001b[38;5;124m\"\u001b[39m: allow_redirects,\n\u001b[0;32m    585\u001b[0m }\n\u001b[0;32m    586\u001b[0m send_kwargs\u001b[38;5;241m.\u001b[39mupdate(settings)\n\u001b[1;32m--> 587\u001b[0m resp \u001b[38;5;241m=\u001b[39m \u001b[38;5;28mself\u001b[39m\u001b[38;5;241m.\u001b[39msend(prep, \u001b[38;5;241m*\u001b[39m\u001b[38;5;241m*\u001b[39msend_kwargs)\n\u001b[0;32m    589\u001b[0m \u001b[38;5;28;01mreturn\u001b[39;00m resp\n",
      "File \u001b[1;32m~\\Desktop\\Proj\\venv\\lib\\site-packages\\requests\\sessions.py:701\u001b[0m, in \u001b[0;36mSession.send\u001b[1;34m(self, request, **kwargs)\u001b[0m\n\u001b[0;32m    698\u001b[0m start \u001b[38;5;241m=\u001b[39m preferred_clock()\n\u001b[0;32m    700\u001b[0m \u001b[38;5;66;03m# Send the request\u001b[39;00m\n\u001b[1;32m--> 701\u001b[0m r \u001b[38;5;241m=\u001b[39m adapter\u001b[38;5;241m.\u001b[39msend(request, \u001b[38;5;241m*\u001b[39m\u001b[38;5;241m*\u001b[39mkwargs)\n\u001b[0;32m    703\u001b[0m \u001b[38;5;66;03m# Total elapsed time of the request (approximately)\u001b[39;00m\n\u001b[0;32m    704\u001b[0m elapsed \u001b[38;5;241m=\u001b[39m preferred_clock() \u001b[38;5;241m-\u001b[39m start\n",
      "File \u001b[1;32m~\\Desktop\\Proj\\venv\\lib\\site-packages\\requests\\adapters.py:578\u001b[0m, in \u001b[0;36mHTTPAdapter.send\u001b[1;34m(self, request, stream, timeout, verify, cert, proxies)\u001b[0m\n\u001b[0;32m    576\u001b[0m     \u001b[38;5;28;01mraise\u001b[39;00m SSLError(e, request\u001b[38;5;241m=\u001b[39mrequest)\n\u001b[0;32m    577\u001b[0m \u001b[38;5;28;01melif\u001b[39;00m \u001b[38;5;28misinstance\u001b[39m(e, ReadTimeoutError):\n\u001b[1;32m--> 578\u001b[0m     \u001b[38;5;28;01mraise\u001b[39;00m ReadTimeout(e, request\u001b[38;5;241m=\u001b[39mrequest)\n\u001b[0;32m    579\u001b[0m \u001b[38;5;28;01melif\u001b[39;00m \u001b[38;5;28misinstance\u001b[39m(e, _InvalidHeader):\n\u001b[0;32m    580\u001b[0m     \u001b[38;5;28;01mraise\u001b[39;00m InvalidHeader(e, request\u001b[38;5;241m=\u001b[39mrequest)\n",
      "\u001b[1;31mReadTimeout\u001b[0m: HTTPSConnectionPool(host='api.binance.com', port=443): Read timed out. (read timeout=10)"
     ]
    }
   ],
   "source": [
    "while True:\n",
    "    bot()"
   ]
  },
  {
   "cell_type": "code",
   "execution_count": null,
   "id": "24227998-6e97-45a1-a022-b1028329da36",
   "metadata": {},
   "outputs": [],
   "source": []
  }
 ],
 "metadata": {
  "kernelspec": {
   "display_name": "Python 3 (ipykernel)",
   "language": "python",
   "name": "python3"
  },
  "language_info": {
   "codemirror_mode": {
    "name": "ipython",
    "version": 3
   },
   "file_extension": ".py",
   "mimetype": "text/x-python",
   "name": "python",
   "nbconvert_exporter": "python",
   "pygments_lexer": "ipython3",
   "version": "3.9.10"
  },
  "widgets": {
   "application/vnd.jupyter.widget-state+json": {
    "state": {},
    "version_major": 2,
    "version_minor": 0
   }
  }
 },
 "nbformat": 4,
 "nbformat_minor": 5
}
